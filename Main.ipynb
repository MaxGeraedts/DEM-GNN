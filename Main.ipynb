{
 "cells": [
  {
   "cell_type": "markdown",
   "metadata": {},
   "source": [
    "# DEM-GNN Rollout Evaluation"
   ]
  },
  {
   "cell_type": "markdown",
   "metadata": {},
   "source": [
    "## Import dependencies"
   ]
  },
  {
   "cell_type": "code",
   "execution_count": 30,
   "metadata": {},
   "outputs": [
    {
     "data": {
      "text/plain": [
       "True"
      ]
     },
     "execution_count": 30,
     "metadata": {},
     "output_type": "execute_result"
    }
   ],
   "source": [
    "import torch\n",
    "import torch.nn.functional as F\n",
    "\n",
    "from torch_geometric.data import Batch, Data, DataLoader, InMemoryDataset\n",
    "from torch_geometric.nn import MessagePassing\n",
    "import torch_geometric.transforms as T\n",
    "\n",
    "import numpy as np\n",
    "import matplotlib.pyplot as plt\n",
    "import os\n",
    "\n",
    "from tqdm import tqdm, trange\n",
    "from IPython.display import clear_output\n",
    "from typing import Literal\n",
    "\n",
    "torch.cuda.is_available()"
   ]
  },
  {
   "cell_type": "markdown",
   "metadata": {},
   "source": [
    "## Loading and training on datasets"
   ]
  },
  {
   "cell_type": "code",
   "execution_count": 31,
   "metadata": {},
   "outputs": [
    {
     "name": "stderr",
     "output_type": "stream",
     "text": [
      "Processing...\n"
     ]
    },
    {
     "name": "stdout",
     "output_type": "stream",
     "text": [
      "Collecting test data\n"
     ]
    },
    {
     "name": "stderr",
     "output_type": "stream",
     "text": [
      "100%|██████████| 100/100 [00:07<00:00, 13.90it/s]\n"
     ]
    },
    {
     "name": "stdout",
     "output_type": "stream",
     "text": [
      "Pre-processing test data\n"
     ]
    },
    {
     "name": "stderr",
     "output_type": "stream",
     "text": [
      "100%|██████████| 9900/9900 [00:02<00:00, 4279.98it/s]\n"
     ]
    },
    {
     "name": "stdout",
     "output_type": "stream",
     "text": [
      "Normalizing test data\n"
     ]
    },
    {
     "name": "stderr",
     "output_type": "stream",
     "text": [
      "100%|██████████| 9900/9900 [00:01<00:00, 5422.05it/s]\n",
      "Done!\n",
      "c:\\Users\\20182319\\AppData\\Local\\anaconda3\\envs\\DEM-GNN2\\Lib\\site-packages\\torch_geometric\\io\\fs.py:229: UserWarning: Weights only load failed. Please file an issue to make `torch.load(weights_only=True)` compatible in your case. Please use `torch.serialization.add_safe_globals([_reconstruct])` to allowlist this global.\n",
      "  warnings.warn(f\"{warn_msg} Please use \"\n"
     ]
    }
   ],
   "source": [
    "from ML_functions import DEM_Dataset, Trainer, GetModel\n",
    "dataset_name=\"2Sphere\"\n",
    "model_ident = \"NewModel_1\"\n",
    "data_split=[0.85, 0.95]\n",
    "pre_transform = T.Compose([T.Cartesian(False),\n",
    "                           T.Distance(norm=False,cat=True)])\n",
    "transform       = None\n",
    "force_reload    = True\n",
    "train           = False\n",
    "\n",
    "[dataset_test]      = [DEM_Dataset(dataset_name,\n",
    "                                dataset_type,\n",
    "                                mode             = 'delta',\n",
    "                                force_reload     = force_reload,\n",
    "                                pre_transform    = pre_transform,\n",
    "                                super_tol        = 6,\n",
    "                                tol              = 0,\n",
    "                                noise_factor     = 0) \n",
    "                                for dataset_type in [\"test\"]]\n",
    "\n",
    "if train == True:\n",
    "    model = GetModel(dataset_name,model_ident,edge_dim=4)\n",
    "    trainer = Trainer(model, dataset_train,dataset_val,\n",
    "                      batch_size=32,\n",
    "                      lr=0.0000001,\n",
    "                      epochs=2000,\n",
    "                      model_name=f\"{dataset_name}{model_ident}\")\n",
    "    #trainer.train_loop()"
   ]
  },
  {
   "cell_type": "markdown",
   "metadata": {},
   "source": [
    "## Defining Rollout functions"
   ]
  },
  {
   "cell_type": "code",
   "execution_count": 32,
   "metadata": {},
   "outputs": [
    {
     "data": {
      "text/plain": [
       "101.94855469623032"
      ]
     },
     "execution_count": 32,
     "metadata": {},
     "output_type": "execute_result"
    }
   ],
   "source": [
    "def AverageDX(data):\n",
    "    norm = torch.norm(data.y,dim=1)\n",
    "    return torch.mean(norm)\n",
    "\n",
    "dataset_test.y.abs().mean().item()"
   ]
  },
  {
   "cell_type": "code",
   "execution_count": 33,
   "metadata": {},
   "outputs": [
    {
     "name": "stdout",
     "output_type": "stream",
     "text": [
      "x_max:      tensor([0.9990, 0.9940, 0.9999, 1.0000, 1.0000, 1.0000, 1.0000],\n",
      "       dtype=torch.float64)\n",
      "y_mean:     tensor([-1.7349e-06, -7.4079e-07, -1.0920e-09], dtype=torch.float64)\n",
      "y_std:      tensor([ 17.4302,  17.4970, 290.2160], dtype=torch.float64)\n",
      "edge_mean:  tensor([ 2.2363e-03,  7.1348e-04, -3.0543e-13,  7.5886e-02],\n",
      "       dtype=torch.float64)\n",
      "edge_std:   tensor([1.0251, 1.0249, 1.0251, 1.0040], dtype=torch.float64)\n"
     ]
    }
   ],
   "source": [
    "#print(dataset_train.pos.min(),dataset_train.pos.max())\n",
    "#print(dataset_val.pos.min(),dataset_val.pos.max())\n",
    "#print(dataset_test.pos.min(),dataset_test.pos.max())\n",
    "\n",
    "print(f\"x_max:      {dataset_test.x.max(dim=0)[0]}\")\n",
    "print(f\"y_mean:     {dataset_test.y.mean(dim=0)}\")\n",
    "print(f\"y_std:      {dataset_test.y.std(dim=0)}\")\n",
    "print(f\"edge_mean:  {dataset_test.edge_attr.mean(dim=0)}\")\n",
    "print(f\"edge_std:   {dataset_test.edge_attr.std(dim=0)}\")"
   ]
  },
  {
   "cell_type": "code",
   "execution_count": 34,
   "metadata": {},
   "outputs": [],
   "source": [
    "def FilterStart(dataset):\n",
    "    idx = np.nonzero([data.time == 0 for data in dataset])\n",
    "    return torch.utils.data.Subset(dataset_test,idx)[0]\n",
    "\n",
    "#dataset_test_start = FilterStart(dataset_test)"
   ]
  },
  {
   "cell_type": "code",
   "execution_count": 35,
   "metadata": {},
   "outputs": [],
   "source": [
    "from Encoding import ToPytorchData, GetLength\n",
    "\n",
    "def GetLimits(data):\n",
    "    max = [torch.max(data.x[:,i]) for i in [0, 1, 2]]\n",
    "    min = [torch.min(data.x[:,i]) for i in [0, 1, 2]]\n",
    "    max = torch.stack(max)\n",
    "    min = torch.stack(min)\n",
    "    limits = torch.stack([min,max],dim=1)\n",
    "    return limits\n"
   ]
  },
  {
   "cell_type": "code",
   "execution_count": null,
   "metadata": {},
   "outputs": [],
   "source": [
    "from Encoding import ConstructTopology, TopologyFromPlausibleTopology\n",
    "class LearnedSimulator:\n",
    "    def BCrollout(self):\n",
    "        print(\"Calculating BC\")\n",
    "        BC_rollout = np.empty((GetLength(self.par_data),6,9))\n",
    "        BC_t=np.copy(self.BC)\n",
    "        for t in trange(GetLength(self.par_data)):\n",
    "            BC_t[:,:3] = self.BC[:,:3]+(t+1)*self.BC[:,-3:] \n",
    "            BC_rollout[t] = BC_t\n",
    "        return BC_rollout\n",
    "    \n",
    "    def GroundTruth_Rollout(self):\n",
    "        print(\"Collecting Ground Truth Rollout\")\n",
    "        GroundTruth = np.empty(GetLength(self.par_data),dtype=object)\n",
    "        for t in trange(GetLength(self.par_data)):\n",
    "            MatlabTopology = TopologyFromPlausibleTopology(self.super_topology,self.par_data[t],self.BC_rollout[t],self.tol)\n",
    "            GroundTruth[t] = ToPytorchData(self.par_data[t],self.BC_rollout[t],self.tol,MatlabTopology)[0]\n",
    "            GroundTruth[t].MatlabTopology = MatlabTopology\n",
    "        return GroundTruth\n",
    "    \n",
    "    def Rollout_Step(self,par_inp, BC,MatlabTopology):\n",
    "        # Update Boundary conditions\n",
    "        BC[:,:3] += BC[:,-3:]\n",
    "\n",
    "        # Convert raw data to PyTorch Graphdata\n",
    "        input_data = ToPytorchData(par_inp,BC,self.tol,MatlabTopology)[0]\n",
    "        if self.transform is not None: input_data = self.transform(input_data)\n",
    "        input_data.to(self.device)\n",
    "\n",
    "        # Run ML Model\n",
    "        output = self.model(input_data)\n",
    "\n",
    "        # With displacement vectors update particle positions and topology\n",
    "        output = self.rescale(output,self.device)\n",
    "        par_inp[:,:3] = par_inp[:,:3]+output[input_data.mask].cpu().numpy()\n",
    "        MatlabTopology = TopologyFromPlausibleTopology(self.super_topology,par_inp,BC,self.tol)\n",
    "\n",
    "        return output, par_inp, BC, MatlabTopology\n",
    "    \n",
    "    def MLRollout(self):\n",
    "        print(\"Calculating Learned Rollout\")\n",
    "        with torch.inference_mode():\n",
    "            # Initiate Rollout\n",
    "            ML_Rollout = np.empty((self.timesteps),dtype=object)\n",
    "            par_inp = self.par_data[0]\n",
    "            BC = self.BC\n",
    "            MatlabTopology = TopologyFromPlausibleTopology(self.super_topology,par_inp,BC,self.tol)\n",
    "            ML_Rollout[0] = ToPytorchData(par_inp,BC,self.tol,MatlabTopology)[0]\n",
    "            ML_Rollout[0].MatlabTopology = MatlabTopology\n",
    "\n",
    "            # Rollout\n",
    "            for t in tqdm(range(1,self.timesteps)):\n",
    "                output, par_inp, BC, MatlabTopology = self.Rollout_Step(par_inp, BC, MatlabTopology)\n",
    "                # Save equilibrium positions\n",
    "                ML_Rollout[t] = ToPytorchData(par_inp,BC,self.tol,MatlabTopology)[0]\n",
    "                ML_Rollout[t].MatlabTopology = MatlabTopology\n",
    "\n",
    "        return ML_Rollout\n",
    "    \n",
    "    def __init__(self,i:int,model,data_agr, top_agr,BC_agr,scale_function,super_tol:int,tol:int,transform,timesteps:int=100):\n",
    "        self.device = torch.device('cuda' if torch.cuda.is_available()else 'cpu')\n",
    "        self.BC = BC_agr[i].copy()\n",
    "        self.par_data = data_agr[i].copy()\n",
    "        self.topology = top_agr[i].copy()\n",
    "        self.model = model.to(self.device)\n",
    "        self.rescale = scale_function\n",
    "        self.timesteps = timesteps\n",
    "        self.super_tol = super_tol\n",
    "        self.tol = tol\n",
    "        self.transform = transform\n",
    "        self.BC_rollout = self.BCrollout()\n",
    "        self.super_topology = ConstructTopology(self.par_data[0],self.BC_rollout[0],self.super_tol)-1\n",
    "        self.GroundTruth = self.GroundTruth_Rollout()\n",
    "        self.ML_rollout = self.MLRollout()"
   ]
  },
  {
   "cell_type": "code",
   "execution_count": 37,
   "metadata": {},
   "outputs": [],
   "source": [
    "from Encoding import load\n",
    "def SplitData(dataset_name,data_split):\n",
    "    loaded_data = load(dataset_name)\n",
    "    splits=np.array(data_split)*loaded_data[0].shape[0]\n",
    "    test_data = [np.split(data,splits.astype(int))[2] for data in loaded_data]\n",
    "    return test_data"
   ]
  },
  {
   "cell_type": "code",
   "execution_count": 38,
   "metadata": {},
   "outputs": [],
   "source": [
    "from Encoding import load\n",
    "from ML_functions import DataMask\n",
    "def MaskTestData(dataset_name,dataset_type: Literal[\"train\",\"validate\",\"test\"]):\n",
    "    \"\"\"Masks out testdata from rawdata array\n",
    "\n",
    "    Args:\n",
    "        dataset_name (string): Name of the dataset\n",
    "\n",
    "    Returns:\n",
    "        tuple: [data, top, bc]\n",
    "    \"\"\"\n",
    "    type_dic= {\"train\": 0, \"validate\":1, \"test\":2}\n",
    "    loaded_data = load(dataset_name)\n",
    "    mask = DataMask(loaded_data[0],)[type_dic[dataset_type]]\n",
    "    test_data = [data[mask] for data in loaded_data]\n",
    "    return test_data"
   ]
  },
  {
   "cell_type": "markdown",
   "metadata": {},
   "source": [
    "## Generating Rollouts"
   ]
  },
  {
   "cell_type": "code",
   "execution_count": 39,
   "metadata": {},
   "outputs": [
    {
     "data": {
      "image/png": "[encoded data removed]",
      "text/plain": [
       "<Figure size 1200x500 with 2 Axes>"
      ]
     },
     "metadata": {},
     "output_type": "display_data"
    }
   ],
   "source": [
    "from Plotting import PlotTrainingLoss\n",
    "try: fig, axs = PlotTrainingLoss(dataset_name,model_ident)\n",
    "except: print(\"Failed plot\")"
   ]
  },
  {
   "cell_type": "code",
   "execution_count": 40,
   "metadata": {},
   "outputs": [
    {
     "name": "stdout",
     "output_type": "stream",
     "text": [
      "Loaded model\n"
     ]
    }
   ],
   "source": [
    "from Plotting import PlotXYZ\n",
    "from ML_functions import NormalizeData, GetModel, Rescale, NormalizePos\n",
    "dataset_name=\"2Sphere\"\n",
    "model_ident = \"NewModel_1\"\n",
    "model = GetModel(dataset_name,model_ident)\n",
    "AggregatedArgs = MaskTestData(dataset_name,\"test\")"
   ]
  },
  {
   "cell_type": "code",
   "execution_count": 57,
   "metadata": {},
   "outputs": [
    {
     "name": "stdout",
     "output_type": "stream",
     "text": [
      "Calculating BC\n"
     ]
    },
    {
     "name": "stderr",
     "output_type": "stream",
     "text": [
      "100%|██████████| 100/100 [00:00<00:00, 89967.91it/s]\n"
     ]
    },
    {
     "name": "stdout",
     "output_type": "stream",
     "text": [
      "Collecting Ground Truth Rollout\n"
     ]
    },
    {
     "name": "stderr",
     "output_type": "stream",
     "text": [
      "100%|██████████| 100/100 [00:00<00:00, 691.07it/s]\n"
     ]
    },
    {
     "name": "stdout",
     "output_type": "stream",
     "text": [
      "Calculating Learned Rollout\n"
     ]
    },
    {
     "name": "stderr",
     "output_type": "stream",
     "text": [
      "100%|██████████| 99/99 [00:01<00:00, 98.04it/s] \n"
     ]
    },
    {
     "data": {
      "image/png": "[encoded data removed]",
      "text/plain": [
       "<Figure size 1900x480 with 3 Axes>"
      ]
     },
     "metadata": {},
     "output_type": "display_data"
    }
   ],
   "source": [
    "for sample_idx in [0]:\n",
    "    Rollout = LearnedSimulator(sample_idx,model,*AggregatedArgs,\n",
    "                               scale_function = Rescale(dataset_name),\n",
    "                               super_tol = 6,\n",
    "                               tol       = 0,\n",
    "                               transform = T.Compose([T.Cartesian(False),T.Distance(norm=False,cat=True),NormalizeData(dataset_name)]),\n",
    "                               timesteps = 100)\n",
    "\n",
    "    if dataset_name == \"2Sphere\": \n",
    "        PlotXYZ(Rollout,t_max=100, normalize=False)"
   ]
  },
  {
   "cell_type": "markdown",
   "metadata": {},
   "source": [
    "## Evaluating Rollouts"
   ]
  },
  {
   "cell_type": "code",
   "execution_count": null,
   "metadata": {},
   "outputs": [],
   "source": [
    "from Plotting import PlotGraphComparison\n",
    "save = False\n",
    "show = True\n",
    "for t in [99]:  \n",
    "    fig = PlotGraphComparison(t,Rollout,sample_idx,Rollout.tol,plot_lines=True)\n",
    "    if save == True: plt.savefig(f\"{os.getcwd()}\\\\Figures\\\\Plots\\\\Graph_Sample{sample_idx}_Time{t}_Tol{str(Rollout.tol)[2:]}.png\",bbox_inches='tight')     \n",
    "    if show == True: plt.show()"
   ]
  },
  {
   "cell_type": "code",
   "execution_count": null,
   "metadata": {},
   "outputs": [],
   "source": [
    "from Plotting import PlotFres\n",
    "from Evaluation import AggregateForces\n",
    "Fcontact_GT,Fres_GT, Fnorm_GT, Fsum_GT = AggregateForces(Rollout.GroundTruth)\n",
    "Fcontact_ML,Fres_ML, Fnorm_ML, Fsum_ML = AggregateForces(Rollout.ML_rollout)\n",
    "fig = PlotFres(Fsum_GT,Fsum_ML)"
   ]
  },
  {
   "cell_type": "code",
   "execution_count": null,
   "metadata": {},
   "outputs": [],
   "source": [
    "from Plotting import PlotStressComparison\n",
    "fig, axs = PlotStressComparison(Rollout,Fcontact_GT,Fcontact_ML,Plot_ML=True)"
   ]
  },
  {
   "cell_type": "code",
   "execution_count": null,
   "metadata": {},
   "outputs": [],
   "source": [
    "from Plotting import PlotForceDistributionComparison\n",
    "quantiles = [1,5,10,25,50]\n",
    "fig, ax = PlotForceDistributionComparison(Fnorm_GT,Fnorm_ML,quantiles,True)"
   ]
  },
  {
   "cell_type": "code",
   "execution_count": null,
   "metadata": {},
   "outputs": [],
   "source": [
    "import pyvista as pv\n",
    "from Plotting import MakeGIF, PlotMeshNormals\n",
    "\n",
    "\n",
    "#datalist = Rollout.ML_rollout\n",
    "#gifname = f\"ML_2_{sample_idx}_Tol{str(tol)[2:]}\"\n",
    "gifname = f\"{dataset_name}_{model_ident}_deform\"\n",
    "datalist = Rollout.GroundTruth\n",
    "#datalist = Rollout.ML_rollout\n",
    "MakeGIF(datalist,gifname,fps=8,color='lightblue',deformation=True)\n",
    "\n",
    "#data = Rollout.ML_rollout[10]\n",
    "#data = Rollout.GroundTruth[0]\n",
    "#PlotMeshNormals(data)\n"
   ]
  },
  {
   "cell_type": "markdown",
   "metadata": {},
   "source": [
    "## Testing New Code"
   ]
  },
  {
   "cell_type": "code",
   "execution_count": null,
   "metadata": {},
   "outputs": [],
   "source": [
    "AggregatedArgs = MaskTestData(dataset_name)\n",
    "data,top,bc = AggregatedArgs\n",
    "par_data = data[0][0]\n",
    "print(par_data)\n",
    "R_avg = par_data[0,3]\n",
    "noise_factor = 0.01\n",
    "standard_deviation = noise_factor*R_avg\n",
    "noise = np.array(standard_deviation*torch.randn((par_data.shape[0],3)))\n",
    "par_data[:,:3]+=noise\n",
    "print(par_data)"
   ]
  },
  {
   "cell_type": "code",
   "execution_count": null,
   "metadata": {},
   "outputs": [],
   "source": [
    "from Encoding import ConstructTopology\n",
    "AggregatedArgs = MaskTestData(dataset_name)\n",
    "data,top,bc = AggregatedArgs\n",
    "data = data[0]\n",
    "top = top[0]\n",
    "bc = bc[0]\n",
    "t=0\n",
    "BC_t = bc.copy()\n",
    "BC_t[:,:3] = bc[:,:3]+(t+1)*bc[:,-3:]\n",
    "\n",
    "print(data.shape)\n",
    "R_avg = data[0,:,3].mean()\n",
    "par_data = data[0]\n",
    "super_topology = ConstructTopology(par_data,BC_t,1)-1\n",
    "print(par_data)"
   ]
  },
  {
   "cell_type": "code",
   "execution_count": null,
   "metadata": {},
   "outputs": [],
   "source": [
    "t=40\n",
    "BC_t = bc.copy()\n",
    "BC_t[:,:3] = bc[:,:3]+(t+1)*bc[:,-3:]\n",
    "bc=BC_t\n",
    "par_data = data[t]\n",
    "top0 = ConstructTopology(par_data,bc,0)-1\n",
    "\n",
    "from Encoding import TopologyFromPlausibleTopology\n",
    "topology_sub = TopologyFromPlausibleTopology(super_topology,par_data,BC_t,0)\n",
    "\n",
    "topology_sub == top0,topology_sub"
   ]
  },
  {
   "cell_type": "code",
   "execution_count": null,
   "metadata": {},
   "outputs": [],
   "source": [
    "from Evaluation import GetGamma\n",
    "gamma = GetGamma(data)\n",
    "gamma"
   ]
  },
  {
   "cell_type": "markdown",
   "metadata": {},
   "source": [
    "## Old Code"
   ]
  },
  {
   "cell_type": "code",
   "execution_count": null,
   "metadata": {},
   "outputs": [],
   "source": [
    "from Evaluation import GetContactForce\n",
    "from Encoding import ConvertToDirected\n",
    "data = Rollout.GroundTruth[0].clone()\n",
    "force = GetContactForce(data)\n",
    "GT = np.loadtxt('PairContact001.txt')\n",
    "\n",
    "data =ConvertToDirected(data)\n",
    "force2 = GetContactForce(data)\n",
    "\n",
    "print(torch.norm(force,dim=1).size())\n",
    "print(torch.norm(force2,dim=1))\n",
    "\n",
    "torch.all(np.round(GT[:,2],2)==torch.round(torch.norm(force2,dim=1),decimals=2))"
   ]
  },
  {
   "cell_type": "code",
   "execution_count": null,
   "metadata": {},
   "outputs": [],
   "source": [
    "from Plotting import GetInternalStressRollout\n",
    "stress = GetInternalStressRollout(Rollout)\n",
    "torch.set_printoptions(4)\n",
    "print(\"Stress at time 0\")\n",
    "print(torch.round(stress[0],decimals=8)),\n",
    "print(\"\\nStress at time 99\")\n",
    "print(torch.round(stress[-1],decimals=1))"
   ]
  },
  {
   "cell_type": "code",
   "execution_count": null,
   "metadata": {},
   "outputs": [],
   "source": [
    "from Plotting import PlotContactVectorAndForce, GetAllContactpoints,AxesLimits\n",
    "data = Rollout.GroundTruth[0]\n",
    "BC = Rollout.BC_rollout[3]\n",
    "fig,axs = PlotContactVectorAndForce(data,BC)\n",
    "for ax in axs: AxesLimits(ax,BC)"
   ]
  },
  {
   "cell_type": "code",
   "execution_count": null,
   "metadata": {},
   "outputs": [],
   "source": [
    "data = Rollout.ML_rollout[0]\n",
    "#data = Rollout.GroundTruth[0]"
   ]
  }
 ],
 "metadata": {
  "kernelspec": {
   "display_name": "DEM-GNN2",
   "language": "python",
   "name": "python3"
  },
  "language_info": {
   "codemirror_mode": {
    "name": "ipython",
    "version": 3
   },
   "file_extension": ".py",
   "mimetype": "text/x-python",
   "name": "python",
   "nbconvert_exporter": "python",
   "pygments_lexer": "ipython3",
   "version": "3.11.11"
  }
 },
 "nbformat": 4,
 "nbformat_minor": 2
}
