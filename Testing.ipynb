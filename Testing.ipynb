{
 "cells": [
  {
   "cell_type": "code",
   "execution_count": 16,
   "id": "fcda6006",
   "metadata": {},
   "outputs": [],
   "source": [
    "import scipy.io\n",
    "import numpy as np\n",
    "np.set_printoptions(linewidth=200)\n",
    "import matplotlib.pyplot as plt\n",
    "import os\n",
    "from tqdm import tqdm"
   ]
  },
  {
   "cell_type": "code",
   "execution_count": 17,
   "id": "f0be54bb",
   "metadata": {},
   "outputs": [],
   "source": [
    "from Encoding import load\n",
    "dataset_name = \"N050_Mono\"\n",
    "par_data, bc = load(dataset_name,data_type=\"par_data\"), load(dataset_name,data_type=\"bc\")"
   ]
  },
  {
   "cell_type": "code",
   "execution_count": 18,
   "id": "b059960c",
   "metadata": {},
   "outputs": [],
   "source": [
    "par = par_data[0][0]\n",
    "bc_t = bc[0]"
   ]
  },
  {
   "cell_type": "code",
   "execution_count": 19,
   "id": "268067d7",
   "metadata": {},
   "outputs": [],
   "source": [
    "from Encoding import ProjectPointsToCylinder, ProjectPointsToHyperplane, ConstructTopology\n",
    "top = ConstructTopology(par,bc_t,0.1)-1"
   ]
  },
  {
   "cell_type": "code",
   "execution_count": 20,
   "id": "be3a6926",
   "metadata": {},
   "outputs": [
    {
     "data": {
      "text/plain": [
       "array([[[0.74604114, 0.0, 0.0, -1.0, 0.0, 0.0, 0.0, 0.0, 0.0],\n",
       "        [0.0, 0.79485544, 0.0, 0.0, -1.0, 0.0, 0.0, 0.0, 0.0],\n",
       "        [0.0, 0.0, 1.12686156, 0.0, 0.0, -1.0, 0.0, 0.0, 0.0],\n",
       "        [-1.16630084, -1.19855435, -0.40231877, 1.0, 0.0, 0.0, 0.0, 0.0, 0.0],\n",
       "        [-1.16630084, -1.19855435, -0.40231877, 0.0, 1.0, 0.0, 0.0, 0.0, 0.0],\n",
       "        [-1.16630084, -1.19855435, -0.40231877, 0.0, 0.0, 1.0, 0.0, 0.0, 0.0]],\n",
       "\n",
       "       [[-0.0, 0.0, 0.0, 0.0, 0.0, 0.0, 0.0, 0.0, 0.0],\n",
       "        [0.0, -0.0, 0.0, 0.0, 0.0, 0.0, 0.0, 0.0, 0.0],\n",
       "        [0.0, 0.0, -0.002293770495, 0.0, 0.0, 0.0, 0.0, 0.0, 0.0],\n",
       "        [0.0, 0.0, 0.0, 0.0, 0.0, 0.0, 0.0, 0.0, 0.0],\n",
       "        [0.0, 0.0, 0.0, 0.0, 0.0, 0.0, 0.0, 0.0, 0.0],\n",
       "        [0.0, 0.0, 0.002293770495, 0.0, 0.0, 0.0, 0.0, 0.0, 0.0]]], dtype=object)"
      ]
     },
     "execution_count": 20,
     "metadata": {},
     "output_type": "execute_result"
    }
   ],
   "source": [
    "from Encoding import TopologySlice\n",
    "bc[0]"
   ]
  },
  {
   "cell_type": "code",
   "execution_count": 21,
   "id": "65638fb6",
   "metadata": {},
   "outputs": [],
   "source": [
    "def GetVirtualParticlesCoords(par_step,top_step,bc_step):\n",
    "    P_wall,P_W_particles = [],[]\n",
    "    for wall_id,wall in enumerate(bc_step[0]):\n",
    "        if wall[-1] == 1:\n",
    "            ProjectionFunction = ProjectPointsToHyperplane\n",
    "        if wall[-1] == 0:\n",
    "            ProjectionFunction = ProjectPointsToHyperplane\n",
    "\n",
    "        P_W_mask = -top_step[:,1]-2==wall_id\n",
    "        P_W_idx = top_step[P_W_mask]\n",
    "        P_W_particles_temp = par_step[P_W_idx[:,0],:][:,:3]\n",
    "        P_wall.append(ProjectionFunction(P_W_particles_temp,wall))\n",
    "        P_W_particles.append(P_W_particles_temp)\n",
    "\n",
    "    P_wall = np.astype(np.concatenate(P_wall),float)\n",
    "    P_W_particles = np.astype(np.concatenate(P_W_particles),float)\n",
    "\n",
    "    rel_coord = P_W_particles-P_wall\n",
    "    normal_vectors = rel_coord/np.linalg.norm(rel_coord,axis=1,keepdims=True)\n",
    "    return P_wall, normal_vectors\n",
    "\n",
    "def BCEncoding2(par_step,top_step,bc_step):\n",
    "    \n",
    "    P_wall, normal_vectors = GetVirtualParticlesCoords(par_step,top_step,bc_step)\n",
    "\n",
    "    P_virtual = np.concatenate((P_wall,\n",
    "                                np.zeros((P_wall.shape[0],3)),                      \n",
    "                                np.astype(normal_vectors,int),\n",
    "                                np.zeros((P_wall.shape[0],1))),                      \n",
    "                                axis=1)\n",
    "\n",
    "    top_new = top_step.copy()\n",
    "    n_new = P_virtual.shape[0]\n",
    "    for i in range(n_new):\n",
    "        top_new[-n_new+i,1] = par_step.shape[0]+i\n",
    "    \n",
    "    return P_virtual, top_new\n",
    "\n",
    "P_virtual, top_new = BCEncoding2(par_data[0][0],top,bc_t)\n",
    "\n"
   ]
  },
  {
   "cell_type": "code",
   "execution_count": 24,
   "id": "d493501d",
   "metadata": {},
   "outputs": [
    {
     "data": {
      "text/plain": [
       "(array([[ 0.74604114, -0.31352618,  0.83830016,  0.        ,  0.        ,  0.        , -1.        ,  0.        ,  0.        ,  0.        ],\n",
       "        [-0.26917921,  0.79485544,  0.40080929,  0.        ,  0.        ,  0.        ,  0.        , -1.        ,  0.        ,  0.        ],\n",
       "        [-0.32395348,  0.51613544,  1.12686156,  0.        ,  0.        ,  0.        ,  0.        ,  0.        , -1.        ,  0.        ],\n",
       "        [-0.50620103,  0.22057354,  1.12686156,  0.        ,  0.        ,  0.        ,  0.        ,  0.        , -1.        ,  0.        ],\n",
       "        [-0.3079721 , -0.12162749,  1.12686156,  0.        ,  0.        ,  0.        ,  0.        ,  0.        , -1.        ,  0.        ],\n",
       "        [-0.86901912, -0.39969723,  1.12686156,  0.        ,  0.        ,  0.        ,  0.        ,  0.        , -1.        ,  0.        ],\n",
       "        [-0.08986017, -0.92775361,  1.12686156,  0.        ,  0.        ,  0.        ,  0.        ,  0.        , -1.        ,  0.        ],\n",
       "        [-0.39151132,  0.54845021,  1.12686156,  0.        ,  0.        ,  0.        ,  0.        ,  0.        , -1.        ,  0.        ],\n",
       "        [-0.92163519,  0.56533217,  1.12686156,  0.        ,  0.        ,  0.        ,  0.        ,  0.        , -1.        ,  0.        ],\n",
       "        [-0.99508143, -0.13599988,  1.12686156,  0.        ,  0.        ,  0.        ,  0.        ,  0.        , -1.        ,  0.        ],\n",
       "        [-0.84463953,  0.23205301,  1.12686156,  0.        ,  0.        ,  0.        ,  0.        ,  0.        , -1.        ,  0.        ],\n",
       "        [ 0.16923459, -0.82805093,  1.12686156,  0.        ,  0.        ,  0.        ,  0.        ,  0.        , -1.        ,  0.        ],\n",
       "        [-0.93676865, -0.76027127,  1.12686156,  0.        ,  0.        ,  0.        ,  0.        ,  0.        , -1.        ,  0.        ],\n",
       "        [-1.16630084,  0.56533217,  0.71916555,  0.        ,  0.        ,  0.        ,  1.        ,  0.        ,  0.        ,  0.        ],\n",
       "        [ 0.51624396, -1.19855435,  0.83830016,  0.        ,  0.        ,  0.        ,  0.        ,  1.        ,  0.        ,  0.        ],\n",
       "        [-0.91243954, -0.944569  , -0.40231877,  0.        ,  0.        ,  0.        ,  0.        ,  0.        ,  1.        ,  0.        ]]),\n",
       " array([[ 0,  3],\n",
       "        [ 0,  5],\n",
       "        [ 0, 17],\n",
       "        [ 0, 48],\n",
       "        [ 0, 49],\n",
       "        [ 1, 10],\n",
       "        [ 1, 12],\n",
       "        [ 2, 10],\n",
       "        [ 2, 14],\n",
       "        [ 2, 32],\n",
       "        [ 2, 33],\n",
       "        [ 2, 46],\n",
       "        [ 3,  7],\n",
       "        [ 3, 13],\n",
       "        [ 3, 25],\n",
       "        [ 3, 46],\n",
       "        [ 3, 49],\n",
       "        [ 4,  9],\n",
       "        [ 4, 16],\n",
       "        [ 4, 18],\n",
       "        [ 4, 49],\n",
       "        [ 5,  6],\n",
       "        [ 5, 20],\n",
       "        [ 5, 21],\n",
       "        [ 7, 24],\n",
       "        [ 7, 25],\n",
       "        [ 7, 36],\n",
       "        [ 8, 16],\n",
       "        [ 8, 30],\n",
       "        [ 8, 47],\n",
       "        [ 9, 19],\n",
       "        [10, 20],\n",
       "        [10, 23],\n",
       "        [10, 24],\n",
       "        [11, 20],\n",
       "        [11, 22],\n",
       "        [13, 18],\n",
       "        [13, 26],\n",
       "        [13, 49],\n",
       "        [14, 15],\n",
       "        [14, 16],\n",
       "        [14, 27],\n",
       "        [14, 46],\n",
       "        [15, 16],\n",
       "        [15, 31],\n",
       "        [15, 33],\n",
       "        [17, 18],\n",
       "        [17, 49],\n",
       "        [20, 24],\n",
       "        [20, 46],\n",
       "        [22, 38],\n",
       "        [23, 28],\n",
       "        [23, 39],\n",
       "        [24, 36],\n",
       "        [24, 40],\n",
       "        [25, 29],\n",
       "        [26, 27],\n",
       "        [26, 41],\n",
       "        [27, 28],\n",
       "        [27, 29],\n",
       "        [27, 43],\n",
       "        [28, 32],\n",
       "        [28, 39],\n",
       "        [29, 39],\n",
       "        [29, 40],\n",
       "        [31, 32],\n",
       "        [32, 34],\n",
       "        [32, 44],\n",
       "        [34, 35],\n",
       "        [34, 43],\n",
       "        [35, 41],\n",
       "        [38, 40],\n",
       "        [39, 40],\n",
       "        [42, 43],\n",
       "        [42, 44],\n",
       "        [45, 47],\n",
       "        [45, 48],\n",
       "        [47, 48],\n",
       "        [18, 50],\n",
       "        [20, 51],\n",
       "        [12, 52],\n",
       "        [24, 53],\n",
       "        [25, 54],\n",
       "        [28, 55],\n",
       "        [35, 56],\n",
       "        [36, 57],\n",
       "        [38, 58],\n",
       "        [39, 59],\n",
       "        [40, 60],\n",
       "        [41, 61],\n",
       "        [42, 62],\n",
       "        [38, 63],\n",
       "        [18, 64],\n",
       "        [44, 65]]))"
      ]
     },
     "execution_count": 24,
     "metadata": {},
     "output_type": "execute_result"
    }
   ],
   "source": [
    "P_virtual, top_new"
   ]
  },
  {
   "cell_type": "code",
   "execution_count": 23,
   "id": "6a6103c2",
   "metadata": {},
   "outputs": [
    {
     "ename": "NameError",
     "evalue": "name 'cyl' is not defined",
     "output_type": "error",
     "traceback": [
      "\u001b[1;31m---------------------------------------------------------------------------\u001b[0m",
      "\u001b[1;31mNameError\u001b[0m                                 Traceback (most recent call last)",
      "Cell \u001b[1;32mIn[23], line 1\u001b[0m\n\u001b[1;32m----> 1\u001b[0m point_on_wall \u001b[38;5;241m=\u001b[39m ProjectPointsToCylinder(particles,cyl)\n",
      "\u001b[1;31mNameError\u001b[0m: name 'cyl' is not defined"
     ]
    }
   ],
   "source": [
    "point_on_wall = ProjectPointsToCylinder(particles,cyl)\n",
    "#point_on_wall = ProjectPointsToHyperplane(particles,wall)\n"
   ]
  },
  {
   "cell_type": "code",
   "execution_count": null,
   "id": "4a80f051",
   "metadata": {},
   "outputs": [],
   "source": [
    "from Plotting import Plot3DVectors\n",
    "#fig = plt.figure()\n",
    "#ax = fig.add_subplot(projection='3d')\n",
    "#Plot3DVectors(ax,axis_projection,s)"
   ]
  },
  {
   "cell_type": "code",
   "execution_count": null,
   "id": "4a24e3bb",
   "metadata": {},
   "outputs": [],
   "source": [
    "fig = plt.figure()\n",
    "ax = fig.add_subplot(projection='3d')\n",
    "vector = P_virtual[:,:3]\n",
    "x = vector[:,0]\n",
    "y = vector[:,1]\n",
    "z = vector[:,2]\n",
    "ax.scatter(x,y,z)"
   ]
  },
  {
   "cell_type": "code",
   "execution_count": null,
   "id": "487e8a99",
   "metadata": {},
   "outputs": [],
   "source": [
    "fig = plt.figure()\n",
    "ax = fig.add_subplot(projection='3d')\n",
    "vector = point_on_wall\n",
    "x = vector[:,0]\n",
    "y = vector[:,1]\n",
    "z = vector[:,2]\n",
    "ax.scatter(x,y,z)\n",
    "vector = particles\n",
    "x = vector[:,0]\n",
    "y = vector[:,1]\n",
    "z = vector[:,2]\n",
    "ax.scatter(x,y,z)"
   ]
  },
  {
   "cell_type": "code",
   "execution_count": null,
   "id": "30621b8f",
   "metadata": {},
   "outputs": [],
   "source": [
    "vector = point_on_wall\n",
    "x = vector[:,0]\n",
    "y = vector[:,1]\n",
    "z = vector[:,2]\n",
    "plt.plot(y,z,'o',color='b')\n",
    "vector = particles\n",
    "x = vector[:,0]\n",
    "y = vector[:,1]\n",
    "z = vector[:,2]\n",
    "plt.plot(y,z,'o',color='r')"
   ]
  }
 ],
 "metadata": {
  "kernelspec": {
   "display_name": "DEM-GNN",
   "language": "python",
   "name": "python3"
  },
  "language_info": {
   "codemirror_mode": {
    "name": "ipython",
    "version": 3
   },
   "file_extension": ".py",
   "mimetype": "text/x-python",
   "name": "python",
   "nbconvert_exporter": "python",
   "pygments_lexer": "ipython3",
   "version": "3.12.3"
  }
 },
 "nbformat": 4,
 "nbformat_minor": 5
}
