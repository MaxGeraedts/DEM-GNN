{
 "cells": [
  {
   "cell_type": "code",
   "execution_count": null,
   "id": "fcda6006",
   "metadata": {},
   "outputs": [],
   "source": [
    "import scipy.io\n",
    "import numpy as np\n",
    "np.set_printoptions(linewidth=200)\n",
    "import matplotlib.pyplot as plt\n",
    "import os\n",
    "from tqdm import tqdm"
   ]
  },
  {
   "cell_type": "code",
   "execution_count": null,
   "id": "f5bdcc12",
   "metadata": {},
   "outputs": [],
   "source": [
    "par_data.shape, len(topology), boundary_conditions.shape"
   ]
  },
  {
   "cell_type": "code",
   "execution_count": null,
   "id": "6dfc28f6",
   "metadata": {},
   "outputs": [],
   "source": [
    "bc = scipy.io.loadmat('BC.mat')['BC']\n",
    "particles = np.loadtxt(\"data_particle.dat\")\n",
    "radii = np.loadtxt(\"data_radii.dat\")\n",
    "cyl = bc[0,0,:]\n",
    "wall = bc[0,1,:]\n",
    "#bc[0] += bc[1]\n",
    "bc, wall"
   ]
  },
  {
   "cell_type": "code",
   "execution_count": null,
   "id": "59aeb445",
   "metadata": {},
   "outputs": [],
   "source": [
    "def ProjectPointsToCylinder(points,cyl):\n",
    "    point_to_cyl_origin = points-cyl[:3]\n",
    "    cyl_axis = cyl[3:6]\n",
    "    cyl_radius = cyl[6]\n",
    "    cyl_axis /= np.linalg.norm(cyl_axis)\n",
    "\n",
    "    axis_projection = point_to_cyl_origin*cyl_axis*cyl_axis\n",
    "    axis_projection += cyl[:3]\n",
    "    axis_projection_to_points = points-axis_projection\n",
    "    axis_projection_to_points_scaled = axis_projection_to_points/np.linalg.norm(axis_projection_to_points,axis=1,keepdims=True)*cyl_radius\n",
    "    point_on_cyl = axis_projection+axis_projection_to_points_scaled\n",
    "    return point_on_cyl"
   ]
  },
  {
   "cell_type": "code",
   "execution_count": null,
   "id": "c4bd339e",
   "metadata": {},
   "outputs": [],
   "source": [
    "def ProjectPointsToHyperplane(points,plane):\n",
    "    a = wall[:3]-particles                                               # Vector A from particle P to point W on plane\n",
    "    b = wall[3:6]                                                        # Vector B: normal vector wall\n",
    "    b /= np.linalg.norm(b)                                                       \n",
    "    a1 = a*b*b\n",
    "    point_on_plane = particles+a1\n",
    "    \n",
    "    return point_on_plane"
   ]
  },
  {
   "cell_type": "code",
   "execution_count": null,
   "id": "d29299f1",
   "metadata": {},
   "outputs": [],
   "source": [
    "topology_wall = []\n",
    "for wall_id,wall in enumerate(bc[0]):\n",
    "    if wall[-1] == 1:\n",
    "        point_on_wall = ProjectPointsToCylinder(particles,wall)\n",
    "    if wall[-1] == 0:\n",
    "        point_on_wall = ProjectPointsToHyperplane(particles,wall)\n",
    "    P_W_contact = np.linalg.norm(particles-point_on_wall,axis=1)-radii <= 0\n",
    "    P_idx = np.argwhere(P_W_contact)\n",
    "    W_idx = np.ones((P_idx.shape[0],1))*-(wall_id+1)\n",
    "    top_temp = np.concatenate([P_idx,W_idx],axis=1)\n",
    "    if wall_id == 0:\n",
    "        topology_wall = top_temp\n",
    "    else:\n",
    "        topology_wall = np.concatenate([topology_wall,top_temp])\n",
    "topology_wall"
   ]
  },
  {
   "cell_type": "code",
   "execution_count": null,
   "id": "6a6103c2",
   "metadata": {},
   "outputs": [],
   "source": [
    "point_on_wall = ProjectPointsToCylinder(particles,cyl)\n",
    "#point_on_wall = ProjectPointsToHyperplane(particles,wall)\n"
   ]
  },
  {
   "cell_type": "code",
   "execution_count": null,
   "id": "5b85a080",
   "metadata": {},
   "outputs": [],
   "source": [
    "topology_wall = []\n",
    "for wid in range(len(bc)):\n",
    "    a = bc[wid,:3]-point[:3]                                                # Vector A from particle P to point W on plane\n",
    "    b = bc[wid,3:6]                                                         # Vector B: normal vector wall\n",
    "    a1 = np.abs(np.sum(a*b))                                                # Vector a1(unit) : Absolute size projection A normal to wall\n",
    "    if a1 - point[3] <= tol*point[3]:\n",
    "        topology_wall.append([i+1,-(wid+1)])\n",
    "topology_wall\n"
   ]
  },
  {
   "cell_type": "code",
   "execution_count": null,
   "id": "75e16602",
   "metadata": {},
   "outputs": [],
   "source": [
    "from Encoding import BCEncoding,ConstructTopology\n",
    "ConstructTopology(particles,)\n",
    "BCEncoding(particles,)"
   ]
  },
  {
   "cell_type": "code",
   "execution_count": null,
   "id": "4a80f051",
   "metadata": {},
   "outputs": [],
   "source": [
    "from Plotting import Plot3DVectors\n",
    "#fig = plt.figure()\n",
    "#ax = fig.add_subplot(projection='3d')\n",
    "#Plot3DVectors(ax,axis_projection,s)"
   ]
  },
  {
   "cell_type": "code",
   "execution_count": null,
   "id": "487e8a99",
   "metadata": {},
   "outputs": [],
   "source": [
    "fig = plt.figure()\n",
    "ax = fig.add_subplot(projection='3d')\n",
    "vector = point_on_wall\n",
    "x = vector[:,0]\n",
    "y = vector[:,1]\n",
    "z = vector[:,2]\n",
    "ax.scatter(x,y,z)\n",
    "vector = particles\n",
    "x = vector[:,0]\n",
    "y = vector[:,1]\n",
    "z = vector[:,2]\n",
    "ax.scatter(x,y,z)"
   ]
  },
  {
   "cell_type": "code",
   "execution_count": null,
   "id": "30621b8f",
   "metadata": {},
   "outputs": [],
   "source": [
    "vector = point_on_wall\n",
    "x = vector[:,0]\n",
    "y = vector[:,1]\n",
    "z = vector[:,2]\n",
    "plt.plot(y,z,'o',color='b')\n",
    "vector = particles\n",
    "x = vector[:,0]\n",
    "y = vector[:,1]\n",
    "z = vector[:,2]\n",
    "plt.plot(y,z,'o',color='r')"
   ]
  }
 ],
 "metadata": {
  "kernelspec": {
   "display_name": "DEM-GNN",
   "language": "python",
   "name": "python3"
  },
  "language_info": {
   "codemirror_mode": {
    "name": "ipython",
    "version": 3
   },
   "file_extension": ".py",
   "mimetype": "text/x-python",
   "name": "python",
   "nbconvert_exporter": "python",
   "pygments_lexer": "ipython3",
   "version": "3.12.3"
  }
 },
 "nbformat": 4,
 "nbformat_minor": 5
}
