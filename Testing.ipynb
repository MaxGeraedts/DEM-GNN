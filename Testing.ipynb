{
 "cells": [
  {
   "cell_type": "code",
   "execution_count": 1,
   "id": "fcda6006",
   "metadata": {},
   "outputs": [],
   "source": [
    "import scipy.io\n",
    "import numpy as np\n",
    "np.set_printoptions(linewidth=200)\n",
    "import matplotlib.pyplot as plt\n",
    "import os\n",
    "from tqdm import tqdm"
   ]
  },
  {
   "cell_type": "code",
   "execution_count": 2,
   "id": "f0be54bb",
   "metadata": {},
   "outputs": [],
   "source": [
    "from Encoding import load\n",
    "dataset_name = \"Pill_Mono\"\n",
    "par_data, bc = load(dataset_name,data_type=\"par_data\"), load(dataset_name,data_type=\"bc\")"
   ]
  },
  {
   "cell_type": "code",
   "execution_count": null,
   "id": "c0fb3f5f",
   "metadata": {},
   "outputs": [],
   "source": [
    "bc[0]"
   ]
  },
  {
   "cell_type": "code",
   "execution_count": null,
   "id": "d90d18d4",
   "metadata": {},
   "outputs": [],
   "source": [
    "np.max(par_data[0][0],axis=0)"
   ]
  },
  {
   "cell_type": "code",
   "execution_count": null,
   "id": "245250a3",
   "metadata": {},
   "outputs": [],
   "source": [
    "from Encoding import ProjectPointsToCylinder, ProjectPointsToHyperplane\n",
    "t = 0\n",
    "bc_step = bc[0].copy()\n",
    "bc_step[0]+=bc_step[1]*(t+1)\n",
    "par = par_data[0][t][:,:3]\n",
    "def CheckCylindricalBC(points,cyl):\n",
    "    point_to_cyl_origin = points-cyl[:3]\n",
    "    cyl_axis = cyl[3:6]/np.linalg.norm(cyl[3:6])\n",
    "    radius = cyl[6]\n",
    "\n",
    "    axis_projection = point_to_cyl_origin*cyl_axis*cyl_axis\n",
    "    axis_projection += cyl[:3]\n",
    "    dist_axis = np.linalg.norm(points-axis_projection,axis=1)\n",
    "\n",
    "    if cyl[-2] == 1: \n",
    "        bc_bool = dist_axis <= radius\n",
    "    if cyl[-2] == -1:\n",
    "        bc_bool = dist_axis >= radius\n",
    "\n",
    "    return bc_bool \n",
    "\n",
    "def CheckPlanarBC(points,plane):\n",
    "    wallpoints = ProjectPointsToHyperplane(points,plane)  \n",
    "    vector = points-wallpoints \n",
    "    vector /= np.linalg.norm(vector,axis=1,keepdims=True) \n",
    "    normal_vector = plane[3:6]\n",
    "    bc_bool = np.all(vector == normal_vector,axis=1)    \n",
    "    return bc_bool\n",
    "\n",
    "def ValidateBC(par,bc_step):\n",
    "    bc_bool = np.empty([par.shape[0],bc_step.shape[1]])\n",
    "    for wall_id,wall in enumerate(bc_step[0]):\n",
    "        if wall[-1] == 1:\n",
    "            bc_bool[:,wall_id] = CheckCylindricalBC(par,wall)\n",
    "        if wall[-1] == 0:\n",
    "            bc_bool[:,wall_id] = CheckPlanarBC(par,wall)\n",
    "    return bc_bool\n",
    "\n",
    "def ParticlesOutsideBoundary(data_list,bc_rollout):\n",
    "    outside_particles = np.zeros(len(data_list))\n",
    "    for t,data,bc_step in enumerate(zip(data_list,bc_rollout)):\n",
    "        bc_bool = ValidateBC(data.pos[data.mask],bc_step)\n",
    "        par_in_bounds = np.all(bc_bool,axis=1)\n",
    "        num_par_out_bounds = np.sum(~par_in_bounds).item()\n",
    "        outside_particles[t] = num_par_out_bounds\n",
    "    return outside_particles\n"
   ]
  },
  {
   "cell_type": "code",
   "execution_count": null,
   "id": "d4939f3a",
   "metadata": {},
   "outputs": [],
   "source": [
    "\n"
   ]
  },
  {
   "cell_type": "code",
   "execution_count": null,
   "id": "487e8a99",
   "metadata": {},
   "outputs": [],
   "source": [
    "fig = plt.figure()\n",
    "ax = fig.add_subplot(projection='3d')\n",
    "vector = axis_projection\n",
    "x = vector[:,0]\n",
    "y = vector[:,1]\n",
    "z = vector[:,2]\n",
    "ax.scatter(x,y,z)\n",
    "vector = par\n",
    "x = vector[:,0]\n",
    "y = vector[:,1]\n",
    "z = vector[:,2]\n",
    "ax.scatter(x,y,z)"
   ]
  },
  {
   "cell_type": "code",
   "execution_count": null,
   "id": "30621b8f",
   "metadata": {},
   "outputs": [],
   "source": [
    "vector = axis_projection\n",
    "x = vector[:,0]\n",
    "y = vector[:,1]\n",
    "z = vector[:,2]\n",
    "plt.plot(x,z,'o',color='b')\n",
    "vector = par\n",
    "x = vector[:,0]\n",
    "y = vector[:,1]\n",
    "z = vector[:,2]\n",
    "plt.plot(x,z,'o',color='r')"
   ]
  },
  {
   "cell_type": "code",
   "execution_count": null,
   "id": "b059960c",
   "metadata": {},
   "outputs": [],
   "source": [
    "from Encoding import ProjectPointsToCylinder, ProjectPointsToHyperplane, ConstructTopology\n",
    "par = par_data[0][0]\n",
    "bc_t = bc[0]\n",
    "super_topology = ConstructTopology(par,bc_t,4)"
   ]
  },
  {
   "cell_type": "code",
   "execution_count": null,
   "id": "1d639891",
   "metadata": {},
   "outputs": [],
   "source": [
    "from Encoding import TopologySlice, CheckForWallContact\n",
    "from Evaluation import NumpyGroupby\n",
    "\n",
    "\n",
    "from Encoding import TopologyFromPlausibleTopology\n",
    "print(bc_t.shape)\n",
    "topology = TopologyFromPlausibleTopology(super_topology,par,bc_t)"
   ]
  },
  {
   "cell_type": "code",
   "execution_count": null,
   "id": "8ab5da4a",
   "metadata": {},
   "outputs": [],
   "source": [
    "topology.shape, super_topology.shape"
   ]
  },
  {
   "cell_type": "code",
   "execution_count": null,
   "id": "87e04889",
   "metadata": {},
   "outputs": [],
   "source": [
    "\n",
    "from Encoding import GetVirtualParticlesCoords\n",
    "P_wall, normal_vectors = GetVirtualParticlesCoords(par,topology,bc_t)\n",
    "\n",
    "P_virtual = np.concatenate((P_wall,\n",
    "                            np.zeros((P_wall.shape[0],3)),                      \n",
    "                            normal_vectors,\n",
    "                            np.zeros((P_wall.shape[0],1))),                      \n",
    "                            axis=1)\n",
    "print(P_wall)\n",
    "top_new = topology.copy()\n",
    "n_new = P_virtual.shape[0]\n",
    "n_par = par.shape[0]\n",
    "top_new[-n_new:,1] = np.arange(n_par,n_new+n_par,1)\n",
    "print(top_new)\n",
    "    "
   ]
  },
  {
   "cell_type": "code",
   "execution_count": null,
   "id": "778ff84c",
   "metadata": {},
   "outputs": [],
   "source": [
    "np.arange(n_new,n_new+n_par,1)"
   ]
  },
  {
   "cell_type": "code",
   "execution_count": null,
   "id": "80668a56",
   "metadata": {},
   "outputs": [],
   "source": [
    "bc.shape"
   ]
  },
  {
   "cell_type": "code",
   "execution_count": null,
   "id": "65638fb6",
   "metadata": {},
   "outputs": [],
   "source": [
    "from Encoding import BCEncoding\n",
    "\n",
    "P_virtual, top_new = BCEncoding(par_data[0][0],top,bc_t)\n",
    "P_virtual, top_new"
   ]
  },
  {
   "cell_type": "code",
   "execution_count": null,
   "id": "6a6103c2",
   "metadata": {},
   "outputs": [],
   "source": [
    "point_on_wall = ProjectPointsToCylinder(particles,cyl)\n",
    "#point_on_wall = ProjectPointsToHyperplane(particles,wall)\n"
   ]
  },
  {
   "cell_type": "code",
   "execution_count": null,
   "id": "4a80f051",
   "metadata": {},
   "outputs": [],
   "source": [
    "from Plotting import Plot3DVectors\n",
    "#fig = plt.figure()\n",
    "#ax = fig.add_subplot(projection='3d')\n",
    "#Plot3DVectors(ax,axis_projection,s)"
   ]
  },
  {
   "cell_type": "code",
   "execution_count": null,
   "id": "4a24e3bb",
   "metadata": {},
   "outputs": [],
   "source": [
    "fig = plt.figure()\n",
    "ax = fig.add_subplot(projection='3d')\n",
    "vector = proj+wall[:3]\n",
    "x = vector[:,0]\n",
    "y = vector[:,1]\n",
    "z = vector[:,2]\n",
    "ax.scatter(x,y,z)"
   ]
  }
 ],
 "metadata": {
  "kernelspec": {
   "display_name": "DEM-GNN",
   "language": "python",
   "name": "python3"
  },
  "language_info": {
   "codemirror_mode": {
    "name": "ipython",
    "version": 3
   },
   "file_extension": ".py",
   "mimetype": "text/x-python",
   "name": "python",
   "nbconvert_exporter": "python",
   "pygments_lexer": "ipython3",
   "version": "3.12.3"
  }
 },
 "nbformat": 4,
 "nbformat_minor": 5
}
