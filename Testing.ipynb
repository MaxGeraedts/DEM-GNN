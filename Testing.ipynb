{
 "cells": [
  {
   "cell_type": "code",
   "execution_count": 1,
   "id": "fcda6006",
   "metadata": {},
   "outputs": [],
   "source": [
    "import scipy.io\n",
    "import numpy as np\n",
    "np.set_printoptions(linewidth=200)\n",
    "import matplotlib.pyplot as plt\n",
    "import os\n",
    "from tqdm import tqdm"
   ]
  },
  {
   "cell_type": "code",
   "execution_count": 2,
   "id": "f0be54bb",
   "metadata": {},
   "outputs": [],
   "source": [
    "from Encoding import load\n",
    "dataset_name = \"2Sphere\"\n",
    "par_data, bc = load(dataset_name,data_type=\"par_data\"), load(dataset_name,data_type=\"bc\")"
   ]
  },
  {
   "cell_type": "code",
   "execution_count": 3,
   "id": "b059960c",
   "metadata": {},
   "outputs": [],
   "source": [
    "from Encoding import ProjectPointsToCylinder, ProjectPointsToHyperplane, ConstructTopology\n",
    "par = par_data[0][0]\n",
    "bc_t = bc[0]\n",
    "super_topology = ConstructTopology(par,bc_t,4)"
   ]
  },
  {
   "cell_type": "code",
   "execution_count": 4,
   "id": "1d639891",
   "metadata": {},
   "outputs": [],
   "source": [
    "from Encoding import TopologySlice, CheckForWallContact\n",
    "from Evaluation import NumpyGroupby\n",
    "\n",
    "\n",
    "from Encoding import TopologyFromPlausibleTopology\n",
    "\n",
    "topology = TopologyFromPlausibleTopology(super_topology,par,bc_t)"
   ]
  },
  {
   "cell_type": "code",
   "execution_count": 5,
   "id": "8ab5da4a",
   "metadata": {},
   "outputs": [
    {
     "data": {
      "text/plain": [
       "((5, 2), (13, 2))"
      ]
     },
     "execution_count": 5,
     "metadata": {},
     "output_type": "execute_result"
    }
   ],
   "source": [
    "topology.shape, super_topology.shape"
   ]
  },
  {
   "cell_type": "code",
   "execution_count": 6,
   "id": "80668a56",
   "metadata": {},
   "outputs": [
    {
     "data": {
      "text/plain": [
       "(array([[ 0,  1],\n",
       "        [ 0, -1],\n",
       "        [ 1, -1],\n",
       "        [ 0, -2],\n",
       "        [ 1, -2],\n",
       "        [ 0, -3],\n",
       "        [ 1, -3],\n",
       "        [ 0, -4],\n",
       "        [ 1, -4],\n",
       "        [ 0, -5],\n",
       "        [ 1, -5],\n",
       "        [ 0, -6],\n",
       "        [ 1, -6]]),\n",
       " array([[ 0,  1],\n",
       "        [ 1, -4],\n",
       "        [ 1, -2],\n",
       "        [ 0, -2],\n",
       "        [ 0, -1]]))"
      ]
     },
     "execution_count": 6,
     "metadata": {},
     "output_type": "execute_result"
    }
   ],
   "source": [
    "super_topology,topology"
   ]
  },
  {
   "cell_type": "code",
   "execution_count": null,
   "id": "65638fb6",
   "metadata": {},
   "outputs": [],
   "source": [
    "from Encoding import BCEncoding\n",
    "\n",
    "P_virtual, top_new = BCEncoding(par_data[0][0],top,bc_t)\n",
    "P_virtual, top_new"
   ]
  },
  {
   "cell_type": "code",
   "execution_count": null,
   "id": "6a6103c2",
   "metadata": {},
   "outputs": [],
   "source": [
    "point_on_wall = ProjectPointsToCylinder(particles,cyl)\n",
    "#point_on_wall = ProjectPointsToHyperplane(particles,wall)\n"
   ]
  },
  {
   "cell_type": "code",
   "execution_count": null,
   "id": "4a80f051",
   "metadata": {},
   "outputs": [],
   "source": [
    "from Plotting import Plot3DVectors\n",
    "#fig = plt.figure()\n",
    "#ax = fig.add_subplot(projection='3d')\n",
    "#Plot3DVectors(ax,axis_projection,s)"
   ]
  },
  {
   "cell_type": "code",
   "execution_count": null,
   "id": "4a24e3bb",
   "metadata": {},
   "outputs": [],
   "source": [
    "fig = plt.figure()\n",
    "ax = fig.add_subplot(projection='3d')\n",
    "vector = P_virtual[:,:3]\n",
    "x = vector[:,0]\n",
    "y = vector[:,1]\n",
    "z = vector[:,2]\n",
    "ax.scatter(x,y,z)"
   ]
  },
  {
   "cell_type": "code",
   "execution_count": null,
   "id": "487e8a99",
   "metadata": {},
   "outputs": [],
   "source": [
    "fig = plt.figure()\n",
    "ax = fig.add_subplot(projection='3d')\n",
    "vector = point_on_wall\n",
    "x = vector[:,0]\n",
    "y = vector[:,1]\n",
    "z = vector[:,2]\n",
    "ax.scatter(x,y,z)\n",
    "vector = particles\n",
    "x = vector[:,0]\n",
    "y = vector[:,1]\n",
    "z = vector[:,2]\n",
    "ax.scatter(x,y,z)"
   ]
  },
  {
   "cell_type": "code",
   "execution_count": null,
   "id": "30621b8f",
   "metadata": {},
   "outputs": [],
   "source": [
    "vector = point_on_wall\n",
    "x = vector[:,0]\n",
    "y = vector[:,1]\n",
    "z = vector[:,2]\n",
    "plt.plot(y,z,'o',color='b')\n",
    "vector = particles\n",
    "x = vector[:,0]\n",
    "y = vector[:,1]\n",
    "z = vector[:,2]\n",
    "plt.plot(y,z,'o',color='r')"
   ]
  }
 ],
 "metadata": {
  "kernelspec": {
   "display_name": "DEM-GNN",
   "language": "python",
   "name": "python3"
  },
  "language_info": {
   "codemirror_mode": {
    "name": "ipython",
    "version": 3
   },
   "file_extension": ".py",
   "mimetype": "text/x-python",
   "name": "python",
   "nbconvert_exporter": "python",
   "pygments_lexer": "ipython3",
   "version": "3.12.3"
  }
 },
 "nbformat": 4,
 "nbformat_minor": 5
}
