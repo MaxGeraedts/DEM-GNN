{
 "cells": [
  {
   "cell_type": "code",
   "execution_count": 36,
   "metadata": {},
   "outputs": [],
   "source": [
    "import pyvista as pv\n",
    "import numpy as np"
   ]
  },
  {
   "cell_type": "code",
   "execution_count": 37,
   "metadata": {},
   "outputs": [
    {
     "data": {
      "text/plain": [
       "(3,)"
      ]
     },
     "execution_count": 37,
     "metadata": {},
     "output_type": "execute_result"
    }
   ],
   "source": [
    "\n",
    "contactpoints = np.array([[0.5,0,0],[0,0.5,0]])\n",
    "contactnormals = np.array([[1,0,0],[0,1,0]])\n",
    "contactpoints[0].shape"
   ]
  },
  {
   "cell_type": "code",
   "execution_count": 38,
   "metadata": {},
   "outputs": [
    {
     "name": "stdout",
     "output_type": "stream",
     "text": [
      "[[4.0000000e+00 4.0000000e+00 2.0000000e+00]\n",
      " [4.0000000e+00 4.0000000e+00 0.0000000e+00]\n",
      " [4.0317278e+00 4.0000000e+00 1.9994965e+00]\n",
      " ...\n",
      " [4.0948687e+00 3.9940314e+00 4.5281053e-03]\n",
      " [4.0632987e+00 3.9960177e+00 2.0133257e-03]\n",
      " [4.0316653e+00 3.9980078e+00 5.0348043e-04]]\n"
     ]
    }
   ],
   "source": [
    "center = [4,4,1]\n",
    "#sphere = pv.ParametricEllipsoid(1,1,1)\n",
    "sphere = pv.Sphere(1,center,theta_resolution=100,phi_resolution=100)\n",
    "print(sphere.points)\n",
    "\n",
    "contactpoints = np.array([[0.9,0,0],[0,0.9,0]])\n",
    "contactnormals = np.array([[1,0,0],[0,1,0]])\n",
    "\n",
    "for contactpoint,contactnormal in zip(contactpoints,contactnormals):\n",
    "    contactpoint=np.expand_dims(contactpoint,0)\n",
    "    contactnormal=np.expand_dims(contactnormal,0)\n",
    "    projection = np.inner(np.array(sphere.points-center)-contactpoint,contactnormal)\n",
    "    transformedpoints = np.where(projection>0,sphere.points-projection*contactnormal,sphere.points)\n",
    "    sphere.points = transformedpoints\n"
   ]
  },
  {
   "cell_type": "code",
   "execution_count": 39,
   "metadata": {},
   "outputs": [
    {
     "data": {
      "application/vnd.jupyter.widget-view+json": {
       "model_id": "902d7f8173cc407c96e987d8245b1a0b",
       "version_major": 2,
       "version_minor": 0
      },
      "text/plain": [
       "Widget(value='<iframe src=\"http://localhost:57114/index.html?ui=P_0x146c3044080_14&reconnect=auto\" class=\"pyvi…"
      ]
     },
     "metadata": {},
     "output_type": "display_data"
    }
   ],
   "source": [
    "p = pv.Plotter()\n",
    "p.add_mesh(sphere, color='lightblue', show_edges=False)\n",
    "p.show()"
   ]
  }
 ],
 "metadata": {
  "kernelspec": {
   "display_name": "DEM-GNN",
   "language": "python",
   "name": "python3"
  },
  "language_info": {
   "codemirror_mode": {
    "name": "ipython",
    "version": 3
   },
   "file_extension": ".py",
   "mimetype": "text/x-python",
   "name": "python",
   "nbconvert_exporter": "python",
   "pygments_lexer": "ipython3",
   "version": "3.12.3"
  }
 },
 "nbformat": 4,
 "nbformat_minor": 2
}
