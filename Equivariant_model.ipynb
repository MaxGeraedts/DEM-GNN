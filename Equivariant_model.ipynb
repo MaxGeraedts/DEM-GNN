{
 "cells": [
  {
   "cell_type": "code",
   "execution_count": 1,
   "metadata": {},
   "outputs": [
    {
     "data": {
      "text/plain": [
       "True"
      ]
     },
     "execution_count": 1,
     "metadata": {},
     "output_type": "execute_result"
    }
   ],
   "source": [
    "import torch\n",
    "import torch.nn.functional as F\n",
    "\n",
    "from torch_geometric.data import Batch, Data, DataLoader, InMemoryDataset\n",
    "from torch_geometric.nn import MessagePassing\n",
    "import torch_geometric.transforms as T\n",
    "\n",
    "import numpy as np\n",
    "import matplotlib.pyplot as plt\n",
    "import os\n",
    "\n",
    "from tqdm import tqdm, trange\n",
    "from IPython.display import clear_output\n",
    "from typing import Literal\n",
    "\n",
    "torch.cuda.is_available()"
   ]
  },
  {
   "cell_type": "code",
   "execution_count": 2,
   "metadata": {},
   "outputs": [],
   "source": [
    "from ML_functions import DEM_Dataset, Trainer, GetModel"
   ]
  },
  {
   "cell_type": "code",
   "execution_count": 3,
   "metadata": {},
   "outputs": [
    {
     "name": "stderr",
     "output_type": "stream",
     "text": [
      "c:\\Users\\20182319\\AppData\\Local\\anaconda3\\envs\\DEM-GNN2\\Lib\\site-packages\\torch_geometric\\data\\dataset.py:240: UserWarning: The `pre_transform` argument differs from the one used in the pre-processed version of this dataset. If you want to make use of another pre-processing technique, pass `force_reload=True` explicitly to reload the dataset.\n",
      "  warnings.warn(\n",
      "c:\\Users\\20182319\\AppData\\Local\\anaconda3\\envs\\DEM-GNN2\\Lib\\site-packages\\torch_geometric\\io\\fs.py:229: UserWarning: Weights only load failed. Please file an issue to make `torch.load(weights_only=True)` compatible in your case. Please use `torch.serialization.add_safe_globals([_reconstruct])` to allowlist this global.\n",
      "  warnings.warn(f\"{warn_msg} Please use \"\n"
     ]
    }
   ],
   "source": [
    "dataset_name=\"2Sphere\"\n",
    "model_ident = \"Model_2\"\n",
    "data_split=[0.85, 0.95]\n",
    "pre_transform = T.Compose([T.Cartesian(False),\n",
    "                           T.Distance(norm=False,cat=True)])\n",
    "transform       = None\n",
    "force_reload    = False\n",
    "train           = False\n",
    "\n",
    "dataset_test      =     DEM_Dataset(dataset_name,\"test\"    ,'delta', force_reload, pre_transform)\n",
    "\n",
    "if train == True:\n",
    "    dataset_train     = DEM_Dataset(dataset_name,\"train\"   ,'delta', force_reload, pre_transform)\n",
    "    dataset_val       = DEM_Dataset(dataset_name,\"validate\",'delta', force_reload, pre_transform)\n",
    "\n",
    "    model = GetModel(dataset_name,model_ident,edge_dim=4)\n",
    "    trainer = Trainer(model, dataset_train,dataset_val,\n",
    "                      batch_size=32,\n",
    "                      lr=0.0000001,\n",
    "                      epochs=2000,\n",
    "                      model_name=f\"{dataset_name}{model_ident}\")\n",
    "    #trainer.train_loop()"
   ]
  },
  {
   "cell_type": "code",
   "execution_count": 4,
   "metadata": {},
   "outputs": [
    {
     "data": {
      "text/plain": [
       "0.00045617528263905557"
      ]
     },
     "execution_count": 4,
     "metadata": {},
     "output_type": "execute_result"
    }
   ],
   "source": [
    "def AverageDX(data):\n",
    "    norm = torch.norm(data.y,dim=1)\n",
    "    return torch.mean(norm)\n",
    "\n",
    "dataset_test.y.abs().mean().item()"
   ]
  },
  {
   "cell_type": "code",
   "execution_count": 5,
   "metadata": {},
   "outputs": [],
   "source": [
    "#print(dataset_train.pos.min(),dataset_train.pos.max())\n",
    "#print(dataset_val.pos.min(),dataset_val.pos.max())\n",
    "#print(dataset_test.pos.min(),dataset_test.pos.max())\n",
    "\n",
    "#print(dataset_train.x.max(dim=0)[0])\n",
    "#print(dataset_val.x.max(dim=0)[0])\n",
    "#print(dataset_test.x.max(dim=0)[0])\n",
    "#dataset_train.y.mean()"
   ]
  },
  {
   "cell_type": "code",
   "execution_count": 6,
   "metadata": {},
   "outputs": [],
   "source": [
    "def FilterStart(dataset):\n",
    "    idx = np.nonzero([data.time == 0 for data in dataset])\n",
    "    return torch.utils.data.Subset(dataset_test,idx)[0]\n",
    "\n",
    "#dataset_test_start = FilterStart(dataset_test)"
   ]
  },
  {
   "cell_type": "code",
   "execution_count": 7,
   "metadata": {},
   "outputs": [],
   "source": [
    "from Encoding import ToPytorchData, GetLength\n",
    "\n",
    "def GetLimits(data):\n",
    "    max = [torch.max(data.x[:,i]) for i in [0, 1, 2]]\n",
    "    min = [torch.min(data.x[:,i]) for i in [0, 1, 2]]\n",
    "    max = torch.stack(max)\n",
    "    min = torch.stack(min)\n",
    "    limits = torch.stack([min,max],dim=1)\n",
    "    return limits\n"
   ]
  },
  {
   "cell_type": "code",
   "execution_count": null,
   "metadata": {},
   "outputs": [],
   "source": [
    "from Encoding import ConstructTopology, TopologyFromPlausibleTopology\n",
    "class LearnedSimulator:\n",
    "    def BCrollout(self):\n",
    "        print(\"Calculating BC\")\n",
    "        BC_rollout = np.empty((GetLength(self.par_data),6,9))\n",
    "        BC_t=np.copy(self.BC)\n",
    "        for t in trange(GetLength(self.par_data)):\n",
    "            BC_t[:,:3] = self.BC[:,:3]+(t+1)*self.BC[:,-3:] \n",
    "            BC_rollout[t] = BC_t\n",
    "        return BC_rollout\n",
    "    \n",
    "    def GroundTruth_Rollout(self):\n",
    "        print(\"Collecting Ground Truth Rollout\")\n",
    "        GroundTruth = np.empty(GetLength(self.par_data),dtype=object)\n",
    "        for t in trange(GetLength(self.par_data)):\n",
    "            data, MatlabTopology = ToPytorchData(self.par_data[t],self.BC_rollout[t],self.tol,self.topology[t],center=False)\n",
    "            GroundTruth[t] = data\n",
    "            GroundTruth[t].MatlabTopology = MatlabTopology\n",
    "        return GroundTruth\n",
    "    \n",
    "    def MLRollout(self):\n",
    "        print(\"Calculating Learned Rollout\")\n",
    "        with torch.inference_mode():\n",
    "            ML_Rollout = np.empty((self.timesteps),dtype=object)\n",
    "            par_inp = self.par_data[0]\n",
    "            super_topology = ConstructTopology(par_inp,self.BC_rollout[0],self.super_tol)-1\n",
    "            MatlabTopology = TopologyFromPlausibleTopology(super_topology,par_inp,self.BC_rollout[0],self.tol)\n",
    "            ML_Rollout[0] = ToPytorchData(par_inp,self.BC_rollout[0],self.tol,MatlabTopology,center=False)[0]\n",
    "            ML_Rollout[0].MatlabTopology = MatlabTopology\n",
    "            for t in tqdm(range(1,self.timesteps)):\n",
    "                input_data = ToPytorchData(par_inp,self.BC_rollout[t],self.tol,MatlabTopology)[0]\n",
    "                    #transform = T.Compose([T.Cartesian(False), T.Distance(norm=False,cat=True)])\n",
    "                input_data = self.transform(input_data)\n",
    "                input_data.to(self.device)\n",
    "                output = self.model(input_data)\n",
    "                par_inp[:,:3] = par_inp[:,:3]+output[input_data.mask].cpu().numpy()\n",
    "                MatlabTopology = TopologyFromPlausibleTopology(super_topology,par_inp,self.BC_rollout[t],self.tol)\n",
    "                output_data = ToPytorchData(par_inp,self.BC_rollout[t],self.tol,MatlabTopology,center=False)[0]\n",
    "                ML_Rollout[t] = output_data\n",
    "                ML_Rollout[t].MatlabTopology = MatlabTopology\n",
    "        return ML_Rollout\n",
    "    \n",
    "    def __init__(self,model,data_agr, top_agr,BC_agr,i: int,super_tol:int,tol:int,transform,timesteps:int=100):\n",
    "        self.device = torch.device('cuda' if torch.cuda.is_available()else 'cpu')\n",
    "        self.BC = BC_agr[i]\n",
    "        self.par_data = data_agr[i]\n",
    "        self.topology = top_agr[i]\n",
    "        self.model = model.to(self.device)\n",
    "        self.data_list = []\n",
    "        self.timesteps = timesteps\n",
    "        self.super_tol = super_tol\n",
    "        self.tol = tol\n",
    "        self.transform = transform\n",
    "        self.BC_rollout = self.BCrollout()\n",
    "        self.GroundTruth = self.GroundTruth_Rollout()\n",
    "        self.ML_rollout = self.MLRollout()"
   ]
  },
  {
   "cell_type": "code",
   "execution_count": 9,
   "metadata": {},
   "outputs": [],
   "source": [
    "from Encoding import load\n",
    "def SplitData(dataset_name,data_split):\n",
    "    loaded_data = load(dataset_name)\n",
    "    splits=np.array(data_split)*loaded_data[0].shape[0]\n",
    "    test_data = [np.split(data,splits.astype(int))[2] for data in loaded_data]\n",
    "    return test_data"
   ]
  },
  {
   "cell_type": "code",
   "execution_count": 10,
   "metadata": {},
   "outputs": [],
   "source": [
    "from Encoding import load\n",
    "from ML_functions import DataMask\n",
    "def MaskTestData(dataset_name):\n",
    "    \"\"\"Masks out testdata from rawdata array\n",
    "\n",
    "    Args:\n",
    "        dataset_name (string): Name of the dataset\n",
    "\n",
    "    Returns:\n",
    "        tuple: [data, top, bc]\n",
    "    \"\"\"\n",
    "    loaded_data = load(dataset_name)\n",
    "    mask = DataMask(loaded_data[0],)[2]\n",
    "    test_data = [data[mask] for data in loaded_data]\n",
    "    return test_data"
   ]
  },
  {
   "cell_type": "code",
   "execution_count": 11,
   "metadata": {},
   "outputs": [
    {
     "ename": "FileNotFoundError",
     "evalue": "[Errno 2] No such file or directory: 'c:\\\\Users\\\\20182319\\\\Documents\\\\Master\\\\Graduation\\\\Repos\\\\DEM-GNN\\\\Models\\\\2Sphere_Model_2_Training_Loss.npy'",
     "output_type": "error",
     "traceback": [
      "\u001b[1;31m---------------------------------------------------------------------------\u001b[0m",
      "\u001b[1;31mFileNotFoundError\u001b[0m                         Traceback (most recent call last)",
      "Cell \u001b[1;32mIn[11], line 2\u001b[0m\n\u001b[0;32m      1\u001b[0m \u001b[38;5;28;01mfrom\u001b[39;00m \u001b[38;5;21;01mPlotting\u001b[39;00m \u001b[38;5;28;01mimport\u001b[39;00m PlotTrainingLoss\n\u001b[1;32m----> 2\u001b[0m fig, axs \u001b[38;5;241m=\u001b[39m PlotTrainingLoss(dataset_name,model_ident)\n",
      "File \u001b[1;32mc:\\Users\\20182319\\Documents\\Master\\Graduation\\Repos\\DEM-GNN\\Plotting.py:290\u001b[0m, in \u001b[0;36mPlotTrainingLoss\u001b[1;34m(dataset_name, model_ident)\u001b[0m\n\u001b[0;32m    288\u001b[0m \u001b[38;5;28;01mdef\u001b[39;00m \u001b[38;5;21mPlotTrainingLoss\u001b[39m(dataset_name,model_ident):\n\u001b[0;32m    289\u001b[0m     model_name \u001b[38;5;241m=\u001b[39m \u001b[38;5;124mf\u001b[39m\u001b[38;5;124m\"\u001b[39m\u001b[38;5;132;01m{\u001b[39;00mdataset_name\u001b[38;5;132;01m}\u001b[39;00m\u001b[38;5;124m_\u001b[39m\u001b[38;5;132;01m{\u001b[39;00mmodel_ident\u001b[38;5;132;01m}\u001b[39;00m\u001b[38;5;124m\"\u001b[39m\n\u001b[1;32m--> 290\u001b[0m     training_loss \u001b[38;5;241m=\u001b[39m np\u001b[38;5;241m.\u001b[39mload(os\u001b[38;5;241m.\u001b[39mpath\u001b[38;5;241m.\u001b[39mjoin(os\u001b[38;5;241m.\u001b[39mgetcwd(),\u001b[38;5;124m\"\u001b[39m\u001b[38;5;124mModels\u001b[39m\u001b[38;5;124m\"\u001b[39m,\u001b[38;5;124mf\u001b[39m\u001b[38;5;124m\"\u001b[39m\u001b[38;5;132;01m{\u001b[39;00mmodel_name\u001b[38;5;132;01m}\u001b[39;00m\u001b[38;5;124m_Training_Loss.npy\u001b[39m\u001b[38;5;124m\"\u001b[39m))\n\u001b[0;32m    291\u001b[0m     validation_loss \u001b[38;5;241m=\u001b[39m np\u001b[38;5;241m.\u001b[39mload(os\u001b[38;5;241m.\u001b[39mpath\u001b[38;5;241m.\u001b[39mjoin(os\u001b[38;5;241m.\u001b[39mgetcwd(),\u001b[38;5;124m\"\u001b[39m\u001b[38;5;124mModels\u001b[39m\u001b[38;5;124m\"\u001b[39m,\u001b[38;5;124mf\u001b[39m\u001b[38;5;124m\"\u001b[39m\u001b[38;5;132;01m{\u001b[39;00mmodel_name\u001b[38;5;132;01m}\u001b[39;00m\u001b[38;5;124m_Validation_Loss.npy\u001b[39m\u001b[38;5;124m\"\u001b[39m))\n\u001b[0;32m    292\u001b[0m     plt\u001b[38;5;241m.\u001b[39mrcParams[\u001b[38;5;124m\"\u001b[39m\u001b[38;5;124mfont.family\u001b[39m\u001b[38;5;124m\"\u001b[39m] \u001b[38;5;241m=\u001b[39m \u001b[38;5;124m\"\u001b[39m\u001b[38;5;124mTimes New Roman\u001b[39m\u001b[38;5;124m\"\u001b[39m\n",
      "File \u001b[1;32mc:\\Users\\20182319\\AppData\\Local\\anaconda3\\envs\\DEM-GNN2\\Lib\\site-packages\\numpy\\lib\\_npyio_impl.py:451\u001b[0m, in \u001b[0;36mload\u001b[1;34m(file, mmap_mode, allow_pickle, fix_imports, encoding, max_header_size)\u001b[0m\n\u001b[0;32m    449\u001b[0m     own_fid \u001b[38;5;241m=\u001b[39m \u001b[38;5;28;01mFalse\u001b[39;00m\n\u001b[0;32m    450\u001b[0m \u001b[38;5;28;01melse\u001b[39;00m:\n\u001b[1;32m--> 451\u001b[0m     fid \u001b[38;5;241m=\u001b[39m stack\u001b[38;5;241m.\u001b[39menter_context(\u001b[38;5;28mopen\u001b[39m(os\u001b[38;5;241m.\u001b[39mfspath(file), \u001b[38;5;124m\"\u001b[39m\u001b[38;5;124mrb\u001b[39m\u001b[38;5;124m\"\u001b[39m))\n\u001b[0;32m    452\u001b[0m     own_fid \u001b[38;5;241m=\u001b[39m \u001b[38;5;28;01mTrue\u001b[39;00m\n\u001b[0;32m    454\u001b[0m \u001b[38;5;66;03m# Code to distinguish from NumPy binary files and pickles.\u001b[39;00m\n",
      "\u001b[1;31mFileNotFoundError\u001b[0m: [Errno 2] No such file or directory: 'c:\\\\Users\\\\20182319\\\\Documents\\\\Master\\\\Graduation\\\\Repos\\\\DEM-GNN\\\\Models\\\\2Sphere_Model_2_Training_Loss.npy'"
     ]
    }
   ],
   "source": [
    "from Plotting import PlotTrainingLoss\n",
    "fig, axs = PlotTrainingLoss(dataset_name,model_ident)"
   ]
  },
  {
   "cell_type": "code",
   "execution_count": null,
   "metadata": {},
   "outputs": [
    {
     "name": "stdout",
     "output_type": "stream",
     "text": [
      "Loaded model\n"
     ]
    }
   ],
   "source": [
    "from Plotting import PlotXYZ\n",
    "from ML_functions import NormalizePos, GetModel\n",
    "dataset_name = \"2Sphere\"\n",
    "model_ident = \"Model_1\"\n",
    "model = GetModel(dataset_name,model_ident)\n",
    "transform = T.Compose([NormalizePos(dataset_name),pre_transform])\n",
    "AggregatedArgs = MaskTestData(dataset_name)"
   ]
  },
  {
   "cell_type": "code",
   "execution_count": 30,
   "metadata": {},
   "outputs": [
    {
     "name": "stdout",
     "output_type": "stream",
     "text": [
      "Calculating BC\n"
     ]
    },
    {
     "name": "stderr",
     "output_type": "stream",
     "text": [
      "100%|██████████| 100/100 [00:00<00:00, 62648.30it/s]\n"
     ]
    },
    {
     "name": "stdout",
     "output_type": "stream",
     "text": [
      "Collecting Ground Truth Rollout\n"
     ]
    },
    {
     "name": "stderr",
     "output_type": "stream",
     "text": [
      "100%|██████████| 100/100 [00:00<00:00, 1649.29it/s]\n"
     ]
    },
    {
     "name": "stdout",
     "output_type": "stream",
     "text": [
      "Calculating Learned Rollout\n",
      "[False  True False  True False  True  True False False  True False]\n"
     ]
    },
    {
     "name": "stderr",
     "output_type": "stream",
     "text": [
      "  9%|▉         | 9/99 [00:00<00:01, 87.11it/s]"
     ]
    },
    {
     "name": "stdout",
     "output_type": "stream",
     "text": [
      "Data(x=[7, 7], edge_index=[2, 5], pos=[7, 3], mask=[7], edge_mask=[5])\n",
      "[False  True  True  True False False  True False False  True False]\n",
      "Data(x=[7, 7], edge_index=[2, 5], pos=[7, 3], mask=[7], edge_mask=[5])\n",
      "[False  True  True  True False False  True  True False False False]\n",
      "Data(x=[7, 7], edge_index=[2, 5], pos=[7, 3], mask=[7], edge_mask=[5])\n",
      "[False  True  True  True False False  True  True False False False]\n",
      "Data(x=[7, 7], edge_index=[2, 5], pos=[7, 3], mask=[7], edge_mask=[5])\n",
      "[False  True  True  True False False  True  True False False False]\n",
      "Data(x=[7, 7], edge_index=[2, 5], pos=[7, 3], mask=[7], edge_mask=[5])\n",
      "[ True  True  True  True False False  True  True False False False]\n",
      "Data(x=[7, 7], edge_index=[2, 7], pos=[7, 3], mask=[7], edge_mask=[7])\n",
      "[False  True False  True False  True  True False False  True False]\n",
      "Data(x=[7, 7], edge_index=[2, 5], pos=[7, 3], mask=[7], edge_mask=[5])\n",
      "[False  True  True  True False False  True  True False False False]\n",
      "Data(x=[7, 7], edge_index=[2, 5], pos=[7, 3], mask=[7], edge_mask=[5])\n",
      "[False  True  True  True False False  True  True False False False]\n",
      "Data(x=[7, 7], edge_index=[2, 5], pos=[7, 3], mask=[7], edge_mask=[5])\n",
      "[False  True  True  True False False  True  True False False False]\n",
      "Data(x=[7, 7], edge_index=[2, 5], pos=[7, 3], mask=[7], edge_mask=[5])\n",
      "[ True  True  True  True False False  True  True False False False]\n",
      "Data(x=[7, 7], edge_index=[2, 7], pos=[7, 3], mask=[7], edge_mask=[7])\n",
      "[False  True  True  True False False  True False False  True False]\n",
      "Data(x=[7, 7], edge_index=[2, 5], pos=[7, 3], mask=[7], edge_mask=[5])\n",
      "[False  True  True  True False False  True False False  True False]\n",
      "Data(x=[7, 7], edge_index=[2, 5], pos=[7, 3], mask=[7], edge_mask=[5])\n",
      "[False False  True  True False False False  True False False False]\n",
      "Data(x=[5, 7], edge_index=[2, 3], pos=[5, 3], mask=[5], edge_mask=[3])\n",
      "[False False  True  True False False False False False  True False]\n",
      "Data(x=[5, 7], edge_index=[2, 3], pos=[5, 3], mask=[5], edge_mask=[3])\n",
      "[False False  True  True False False False  True False False False]\n",
      "Data(x=[5, 7], edge_index=[2, 3], pos=[5, 3], mask=[5], edge_mask=[3])\n",
      "[False False  True  True False False False False False  True False]\n",
      "Data(x=[5, 7], edge_index=[2, 3], pos=[5, 3], mask=[5], edge_mask=[3])\n",
      "[False False  True  True False False False False False  True False]\n",
      "Data(x=[5, 7], edge_index=[2, 3], pos=[5, 3], mask=[5], edge_mask=[3])\n",
      "[False False  True  True False False False  True False False False]\n",
      "Data(x=[5, 7], edge_index=[2, 3], pos=[5, 3], mask=[5], edge_mask=[3])\n",
      "[False False  True  True False False False False False  True False]\n",
      "Data(x=[5, 7], edge_index=[2, 3], pos=[5, 3], mask=[5], edge_mask=[3])\n",
      "[False False  True False False False False False False  True False]\n",
      "Data(x=[4, 7], edge_index=[2, 2], pos=[4, 3], mask=[4], edge_mask=[2])\n"
     ]
    },
    {
     "name": "stderr",
     "output_type": "stream",
     "text": [
      " 21%|██        | 21/99 [00:00<00:00, 105.28it/s]"
     ]
    },
    {
     "name": "stdout",
     "output_type": "stream",
     "text": [
      "[False False  True False False False False  True False False False]\n",
      "Data(x=[4, 7], edge_index=[2, 2], pos=[4, 3], mask=[4], edge_mask=[2])\n",
      "[False False  True False False False False False False  True False]\n",
      "Data(x=[4, 7], edge_index=[2, 2], pos=[4, 3], mask=[4], edge_mask=[2])\n",
      "[False False  True False False False False  True False False False]\n",
      "Data(x=[4, 7], edge_index=[2, 2], pos=[4, 3], mask=[4], edge_mask=[2])\n",
      "[False False False False False  True False False False  True False]\n",
      "Data(x=[4, 7], edge_index=[2, 2], pos=[4, 3], mask=[4], edge_mask=[2])\n",
      "[False False False False False  True False False False  True False]\n",
      "Data(x=[4, 7], edge_index=[2, 2], pos=[4, 3], mask=[4], edge_mask=[2])\n"
     ]
    },
    {
     "name": "stderr",
     "output_type": "stream",
     "text": [
      " 53%|█████▎    | 52/99 [00:00<00:00, 105.46it/s]"
     ]
    },
    {
     "name": "stdout",
     "output_type": "stream",
     "text": [
      "[False False  True False False False False  True False False False]\n",
      "Data(x=[4, 7], edge_index=[2, 2], pos=[4, 3], mask=[4], edge_mask=[2])\n",
      "[False False False False False  True False False False  True False]\n",
      "Data(x=[4, 7], edge_index=[2, 2], pos=[4, 3], mask=[4], edge_mask=[2])\n",
      "[False False  True False False False False False False  True False]\n",
      "Data(x=[4, 7], edge_index=[2, 2], pos=[4, 3], mask=[4], edge_mask=[2])\n",
      "[False False False False False  True False  True False False False]\n",
      "Data(x=[4, 7], edge_index=[2, 2], pos=[4, 3], mask=[4], edge_mask=[2])\n",
      "[False False False False False  True False False False  True False]\n",
      "Data(x=[4, 7], edge_index=[2, 2], pos=[4, 3], mask=[4], edge_mask=[2])\n",
      "[False False  True False False False False  True False False False]\n",
      "Data(x=[4, 7], edge_index=[2, 2], pos=[4, 3], mask=[4], edge_mask=[2])\n",
      "[False False False False False  True False False False  True False]\n",
      "Data(x=[4, 7], edge_index=[2, 2], pos=[4, 3], mask=[4], edge_mask=[2])\n",
      "[False False False False False  True False False False  True False]\n",
      "Data(x=[4, 7], edge_index=[2, 2], pos=[4, 3], mask=[4], edge_mask=[2])\n",
      "[False False  True False False False False  True False False False]\n",
      "Data(x=[4, 7], edge_index=[2, 2], pos=[4, 3], mask=[4], edge_mask=[2])\n",
      "[False False False False False  True False False False  True False]\n",
      "Data(x=[4, 7], edge_index=[2, 2], pos=[4, 3], mask=[4], edge_mask=[2])\n",
      "[False False  True False False False False  True False False False]\n",
      "Data(x=[4, 7], edge_index=[2, 2], pos=[4, 3], mask=[4], edge_mask=[2])\n",
      "[False False False False False  True False False False  True False]\n",
      "Data(x=[4, 7], edge_index=[2, 2], pos=[4, 3], mask=[4], edge_mask=[2])\n",
      "[False False False False False  True False False False  True False]\n",
      "Data(x=[4, 7], edge_index=[2, 2], pos=[4, 3], mask=[4], edge_mask=[2])\n",
      "[False False  True False False False False  True False False False]\n",
      "Data(x=[4, 7], edge_index=[2, 2], pos=[4, 3], mask=[4], edge_mask=[2])\n",
      "[False False False False False  True False False False  True False]\n",
      "Data(x=[4, 7], edge_index=[2, 2], pos=[4, 3], mask=[4], edge_mask=[2])\n",
      "[False False False False False  True False False False  True False]\n",
      "Data(x=[4, 7], edge_index=[2, 2], pos=[4, 3], mask=[4], edge_mask=[2])\n",
      "[False False  True False False False False  True False False False]\n",
      "Data(x=[4, 7], edge_index=[2, 2], pos=[4, 3], mask=[4], edge_mask=[2])\n",
      "[False False False False False  True False False False  True False]\n",
      "Data(x=[4, 7], edge_index=[2, 2], pos=[4, 3], mask=[4], edge_mask=[2])\n",
      "[False False  True False False False False  True False False False]\n",
      "Data(x=[4, 7], edge_index=[2, 2], pos=[4, 3], mask=[4], edge_mask=[2])\n",
      "[False False False False False  True False False False  True False]\n",
      "Data(x=[4, 7], edge_index=[2, 2], pos=[4, 3], mask=[4], edge_mask=[2])\n",
      "[False False False False False  True False False False  True False]\n",
      "Data(x=[4, 7], edge_index=[2, 2], pos=[4, 3], mask=[4], edge_mask=[2])\n",
      "[False False  True False False False False  True False False False]\n",
      "Data(x=[4, 7], edge_index=[2, 2], pos=[4, 3], mask=[4], edge_mask=[2])\n",
      "[False False False False False  True False False False  True False]\n",
      "Data(x=[4, 7], edge_index=[2, 2], pos=[4, 3], mask=[4], edge_mask=[2])\n",
      "[False False False False False  True False False False  True False]\n",
      "Data(x=[4, 7], edge_index=[2, 2], pos=[4, 3], mask=[4], edge_mask=[2])\n",
      "[False False  True False False False False  True False False False]\n",
      "Data(x=[4, 7], edge_index=[2, 2], pos=[4, 3], mask=[4], edge_mask=[2])\n",
      "[False False False False False  True False False False  True False]\n",
      "Data(x=[4, 7], edge_index=[2, 2], pos=[4, 3], mask=[4], edge_mask=[2])\n",
      "[False False  True False False False False  True False False False]\n",
      "Data(x=[4, 7], edge_index=[2, 2], pos=[4, 3], mask=[4], edge_mask=[2])\n",
      "[False False False False False  True False False False  True False]\n",
      "Data(x=[4, 7], edge_index=[2, 2], pos=[4, 3], mask=[4], edge_mask=[2])\n",
      "[False False False False False  True False False False  True False]\n",
      "Data(x=[4, 7], edge_index=[2, 2], pos=[4, 3], mask=[4], edge_mask=[2])\n",
      "[False False  True False False False False  True False False False]\n",
      "Data(x=[4, 7], edge_index=[2, 2], pos=[4, 3], mask=[4], edge_mask=[2])\n",
      "[False False False False False  True False False False  True False]\n",
      "Data(x=[4, 7], edge_index=[2, 2], pos=[4, 3], mask=[4], edge_mask=[2])\n",
      "[False False  True False False False False  True False False False]\n",
      "Data(x=[4, 7], edge_index=[2, 2], pos=[4, 3], mask=[4], edge_mask=[2])\n",
      "[False False False False False  True False False False  True False]\n",
      "Data(x=[4, 7], edge_index=[2, 2], pos=[4, 3], mask=[4], edge_mask=[2])\n",
      "[False False False False False  True False False False  True False]\n",
      "Data(x=[4, 7], edge_index=[2, 2], pos=[4, 3], mask=[4], edge_mask=[2])\n",
      "[False False  True False False False False  True False False False]\n",
      "Data(x=[4, 7], edge_index=[2, 2], pos=[4, 3], mask=[4], edge_mask=[2])\n",
      "[False False False False False  True False False False  True False]\n",
      "Data(x=[4, 7], edge_index=[2, 2], pos=[4, 3], mask=[4], edge_mask=[2])\n",
      "[False False False False False  True False False False  True False]\n",
      "Data(x=[4, 7], edge_index=[2, 2], pos=[4, 3], mask=[4], edge_mask=[2])\n",
      "[False False  True False False False False  True False False False]\n",
      "Data(x=[4, 7], edge_index=[2, 2], pos=[4, 3], mask=[4], edge_mask=[2])\n",
      "[False False False False False  True False False False  True False]\n",
      "Data(x=[4, 7], edge_index=[2, 2], pos=[4, 3], mask=[4], edge_mask=[2])\n",
      "[False False  True False False False False  True False False False]\n",
      "Data(x=[4, 7], edge_index=[2, 2], pos=[4, 3], mask=[4], edge_mask=[2])\n",
      "[False False False False False  True False False False  True False]\n",
      "Data(x=[4, 7], edge_index=[2, 2], pos=[4, 3], mask=[4], edge_mask=[2])\n"
     ]
    },
    {
     "name": "stderr",
     "output_type": "stream",
     "text": [
      "100%|██████████| 99/99 [00:00<00:00, 129.05it/s]"
     ]
    },
    {
     "name": "stdout",
     "output_type": "stream",
     "text": [
      "[False False False False False  True False False False  True False]\n",
      "Data(x=[4, 7], edge_index=[2, 2], pos=[4, 3], mask=[4], edge_mask=[2])\n",
      "[False False  True False False False False  True False False False]\n",
      "Data(x=[4, 7], edge_index=[2, 2], pos=[4, 3], mask=[4], edge_mask=[2])\n",
      "[False False False False False  True False False False  True False]\n",
      "Data(x=[4, 7], edge_index=[2, 2], pos=[4, 3], mask=[4], edge_mask=[2])\n",
      "[False False False False False  True False False False  True False]\n",
      "Data(x=[4, 7], edge_index=[2, 2], pos=[4, 3], mask=[4], edge_mask=[2])\n",
      "[False False  True False False False False  True False False False]\n",
      "Data(x=[4, 7], edge_index=[2, 2], pos=[4, 3], mask=[4], edge_mask=[2])\n",
      "[False False False False False  True False False False  True False]\n",
      "Data(x=[4, 7], edge_index=[2, 2], pos=[4, 3], mask=[4], edge_mask=[2])\n",
      "[False False  True False False False False  True False False False]\n",
      "Data(x=[4, 7], edge_index=[2, 2], pos=[4, 3], mask=[4], edge_mask=[2])\n",
      "[False False False False False  True False False False  True False]\n",
      "Data(x=[4, 7], edge_index=[2, 2], pos=[4, 3], mask=[4], edge_mask=[2])\n",
      "[False False False False False  True False False False  True False]\n",
      "Data(x=[4, 7], edge_index=[2, 2], pos=[4, 3], mask=[4], edge_mask=[2])\n",
      "[False False  True False False False False  True False False False]\n",
      "Data(x=[4, 7], edge_index=[2, 2], pos=[4, 3], mask=[4], edge_mask=[2])\n",
      "[False False False False False  True False False False  True False]\n",
      "Data(x=[4, 7], edge_index=[2, 2], pos=[4, 3], mask=[4], edge_mask=[2])\n",
      "[False False  True False False False False False False  True False]\n",
      "Data(x=[4, 7], edge_index=[2, 2], pos=[4, 3], mask=[4], edge_mask=[2])\n",
      "[False False False False False  True False  True False False False]\n",
      "Data(x=[4, 7], edge_index=[2, 2], pos=[4, 3], mask=[4], edge_mask=[2])\n",
      "[False False False False False  True False False False  True False]\n",
      "Data(x=[4, 7], edge_index=[2, 2], pos=[4, 3], mask=[4], edge_mask=[2])\n",
      "[False False  True False False False False  True False False False]\n",
      "Data(x=[4, 7], edge_index=[2, 2], pos=[4, 3], mask=[4], edge_mask=[2])\n",
      "[False False False False False  True False False False  True False]\n",
      "Data(x=[4, 7], edge_index=[2, 2], pos=[4, 3], mask=[4], edge_mask=[2])\n",
      "[False False False False False  True False False False  True False]\n",
      "Data(x=[4, 7], edge_index=[2, 2], pos=[4, 3], mask=[4], edge_mask=[2])\n",
      "[False False  True False False False False  True False False False]\n",
      "Data(x=[4, 7], edge_index=[2, 2], pos=[4, 3], mask=[4], edge_mask=[2])\n",
      "[False False False False False  True False False False  True False]\n",
      "Data(x=[4, 7], edge_index=[2, 2], pos=[4, 3], mask=[4], edge_mask=[2])\n",
      "[False False  True False False False False  True False False False]\n",
      "Data(x=[4, 7], edge_index=[2, 2], pos=[4, 3], mask=[4], edge_mask=[2])\n",
      "[False False False False False  True False False False  True False]\n",
      "Data(x=[4, 7], edge_index=[2, 2], pos=[4, 3], mask=[4], edge_mask=[2])\n",
      "[False False False False False  True False False False  True False]\n",
      "Data(x=[4, 7], edge_index=[2, 2], pos=[4, 3], mask=[4], edge_mask=[2])\n",
      "[False False  True False False False False  True False False False]\n",
      "Data(x=[4, 7], edge_index=[2, 2], pos=[4, 3], mask=[4], edge_mask=[2])\n",
      "[False False False False False  True False False False  True False]\n",
      "Data(x=[4, 7], edge_index=[2, 2], pos=[4, 3], mask=[4], edge_mask=[2])\n",
      "[False False False False False  True False False False  True False]\n",
      "Data(x=[4, 7], edge_index=[2, 2], pos=[4, 3], mask=[4], edge_mask=[2])\n",
      "[False False  True False False False False  True False False False]\n",
      "Data(x=[4, 7], edge_index=[2, 2], pos=[4, 3], mask=[4], edge_mask=[2])\n",
      "[False False False False False  True False False False  True False]\n",
      "Data(x=[4, 7], edge_index=[2, 2], pos=[4, 3], mask=[4], edge_mask=[2])\n",
      "[False False  True False False False False  True False False False]\n",
      "Data(x=[4, 7], edge_index=[2, 2], pos=[4, 3], mask=[4], edge_mask=[2])\n",
      "[False False False False False  True False False False  True False]\n",
      "Data(x=[4, 7], edge_index=[2, 2], pos=[4, 3], mask=[4], edge_mask=[2])\n",
      "[False False False False False  True False False False  True False]\n",
      "Data(x=[4, 7], edge_index=[2, 2], pos=[4, 3], mask=[4], edge_mask=[2])\n",
      "[False False  True False False False False  True False False False]\n",
      "Data(x=[4, 7], edge_index=[2, 2], pos=[4, 3], mask=[4], edge_mask=[2])\n",
      "[False False False False False  True False False False  True False]\n",
      "Data(x=[4, 7], edge_index=[2, 2], pos=[4, 3], mask=[4], edge_mask=[2])\n",
      "[False False  True False False False False False False  True False]\n"
     ]
    },
    {
     "name": "stderr",
     "output_type": "stream",
     "text": [
      "\n"
     ]
    },
    {
     "data": {
      "image/png": "[encoded data removed]",
      "text/plain": [
       "<Figure size 1900x480 with 3 Axes>"
      ]
     },
     "metadata": {},
     "output_type": "display_data"
    }
   ],
   "source": [
    "for sample_idx in [0]:\n",
    "    #AggregatedArgs = SplitData(dataset_name,data_split)\n",
    "    Rollout = LearnedSimulator(model,*AggregatedArgs,i=sample_idx,super_tol=1,tol=0,transform=transform,timesteps=100)\n",
    "\n",
    "    if dataset_name == \"2Sphere\": \n",
    "        PlotXYZ(Rollout,t_max=100)"
   ]
  },
  {
   "cell_type": "code",
   "execution_count": 14,
   "metadata": {},
   "outputs": [
    {
     "name": "stdout",
     "output_type": "stream",
     "text": [
      "(100, 2, 6)\n",
      "[[1.3670361e-07 7.0110654e-08 0.32672719 0.32771032 53771.483 0.23168819]\n",
      " [-1.133061e-07 3.067474e-08 -0.32672719 0.32771032 53771.483 0.23168819]]\n"
     ]
    }
   ],
   "source": [
    "from Encoding import ConstructTopology\n",
    "AggregatedArgs = MaskTestData(dataset_name)\n",
    "data,top,bc = AggregatedArgs\n",
    "data = data[0]\n",
    "top = top[0]\n",
    "bc = bc[0]\n",
    "t=0\n",
    "BC_t = bc.copy()\n",
    "BC_t[:,:3] = bc[:,:3]+(t+1)*bc[:,-3:]\n",
    "\n",
    "print(data.shape)\n",
    "R_avg = data[0,:,3].mean()\n",
    "par_data = data[0]\n",
    "super_topology = ConstructTopology(par_data,BC_t,1)-1\n",
    "print(par_data)"
   ]
  },
  {
   "cell_type": "code",
   "execution_count": 17,
   "metadata": {},
   "outputs": [
    {
     "name": "stdout",
     "output_type": "stream",
     "text": [
      "[ True False  True  True  True False  True False False  True  True]\n"
     ]
    },
    {
     "data": {
      "text/plain": [
       "(array([[ True,  True],\n",
       "        [ True,  True],\n",
       "        [ True,  True],\n",
       "        [ True,  True],\n",
       "        [ True,  True],\n",
       "        [ True,  True],\n",
       "        [ True,  True]]),\n",
       " array([[ 0,  1],\n",
       "        [ 0, -3],\n",
       "        [ 0, -4],\n",
       "        [ 0, -5],\n",
       "        [ 1, -2],\n",
       "        [ 1, -6],\n",
       "        [ 1, -7]]))"
      ]
     },
     "execution_count": 17,
     "metadata": {},
     "output_type": "execute_result"
    }
   ],
   "source": [
    "t=40\n",
    "BC_t = bc.copy()\n",
    "BC_t[:,:3] = bc[:,:3]+(t+1)*bc[:,-3:]\n",
    "bc=BC_t\n",
    "par_data = data[t]\n",
    "top0 = ConstructTopology(par_data,bc,0)-1\n",
    "\n",
    "from Encoding import TopologyFromPlausibleTopology\n",
    "topology_sub = TopologyFromPlausibleTopology(super_topology,par_data,BC_t,0)\n",
    "\n",
    "topology_sub == top0,topology_sub"
   ]
  },
  {
   "cell_type": "code",
   "execution_count": null,
   "metadata": {},
   "outputs": [],
   "source": [
    "data = dataset_test[0]\n",
    "data"
   ]
  },
  {
   "cell_type": "code",
   "execution_count": null,
   "metadata": {},
   "outputs": [],
   "source": [
    "from Evaluation import GetGamma\n",
    "gamma = GetGamma(data)\n",
    "gamma"
   ]
  },
  {
   "cell_type": "code",
   "execution_count": null,
   "metadata": {},
   "outputs": [],
   "source": [
    "from Plotting import PlotGraphComparison\n",
    "save = False\n",
    "show = True\n",
    "for t in range(1,100,20):  \n",
    "    fig = PlotGraphComparison(t,Rollout,sample_idx,tol,plot_lines=True)\n",
    "    if save == True: plt.savefig(f\"{os.getcwd()}\\\\Figures\\\\Plots\\\\Graph_Sample{sample_idx}_Time{t}_Tol{str(tol)[2:]}.png\",bbox_inches='tight')     \n",
    "    if show == True: plt.show()"
   ]
  },
  {
   "cell_type": "code",
   "execution_count": null,
   "metadata": {},
   "outputs": [],
   "source": [
    "from Plotting import PlotFres\n",
    "from Evaluation import AggregateForces\n",
    "Fcontact_GT,Fres_GT, Fnorm_GT, Fsum_GT = AggregateForces(Rollout.GroundTruth)\n",
    "Fcontact_ML,Fres_ML, Fnorm_ML, Fsum_ML = AggregateForces(Rollout.ML_rollout)\n",
    "fig = PlotFres(Fsum_GT,Fsum_ML)"
   ]
  },
  {
   "cell_type": "code",
   "execution_count": null,
   "metadata": {},
   "outputs": [],
   "source": [
    "from Plotting import PlotStressComparison\n",
    "fig, axs = PlotStressComparison(Rollout,Fcontact_GT,Fcontact_ML,False)"
   ]
  },
  {
   "cell_type": "code",
   "execution_count": null,
   "metadata": {},
   "outputs": [],
   "source": [
    "from Plotting import PlotForceDistributionComparison\n",
    "quantiles = [1,5,10,25,50]\n",
    "fig, ax = PlotForceDistributionComparison(Fnorm_GT,Fnorm_ML,quantiles,False)"
   ]
  },
  {
   "cell_type": "code",
   "execution_count": null,
   "metadata": {},
   "outputs": [],
   "source": [
    "import pyvista as pv\n",
    "from Plotting import MakeGIF, PlotMeshNormals\n",
    "\n",
    "\n",
    "#datalist = Rollout.ML_rollout\n",
    "#gifname = f\"ML_2_{sample_idx}_Tol{str(tol)[2:]}\"\n",
    "gifname = \"Model1_nodeform\"\n",
    "datalist = Rollout.GroundTruth\n",
    "datalist = Rollout.ML_rollout\n",
    "MakeGIF(datalist,gifname,fps=8,color='lightblue',deformation=False)\n",
    "\n",
    "#data = Rollout.ML_rollout[10]\n",
    "#data = Rollout.GroundTruth[0]\n",
    "#PlotMeshNormals(data)\n"
   ]
  },
  {
   "cell_type": "code",
   "execution_count": null,
   "metadata": {},
   "outputs": [],
   "source": [
    "from Evaluation import GetContactForce\n",
    "from Encoding import ConvertToDirected\n",
    "data = Rollout.GroundTruth[0].clone()\n",
    "force = GetContactForce(data)\n",
    "GT = np.loadtxt('PairContact001.txt')\n",
    "\n",
    "data =ConvertToDirected(data)\n",
    "force2 = GetContactForce(data)\n",
    "\n",
    "print(torch.norm(force,dim=1).size())\n",
    "print(torch.norm(force2,dim=1))\n",
    "\n",
    "torch.all(np.round(GT[:,2],2)==torch.round(torch.norm(force2,dim=1),decimals=2))"
   ]
  },
  {
   "cell_type": "code",
   "execution_count": null,
   "metadata": {},
   "outputs": [],
   "source": [
    "from Plotting import GetInternalStressRollout\n",
    "stress = GetInternalStressRollout(Rollout)\n",
    "torch.set_printoptions(4)\n",
    "print(\"Stress at time 0\")\n",
    "print(torch.round(stress[0],decimals=8)),\n",
    "print(\"\\nStress at time 99\")\n",
    "print(torch.round(stress[-1],decimals=1))"
   ]
  },
  {
   "cell_type": "code",
   "execution_count": null,
   "metadata": {},
   "outputs": [],
   "source": [
    "from Plotting import PlotContactVectorAndForce, GetAllContactpoints,AxesLimits\n",
    "data = Rollout.GroundTruth[0]\n",
    "BC = Rollout.BC_rollout[3]\n",
    "fig,axs = PlotContactVectorAndForce(data,BC)\n",
    "for ax in axs: AxesLimits(ax,BC)"
   ]
  },
  {
   "cell_type": "code",
   "execution_count": null,
   "metadata": {},
   "outputs": [],
   "source": [
    "data = Rollout.ML_rollout[0]\n",
    "#data = Rollout.GroundTruth[0]"
   ]
  }
 ],
 "metadata": {
  "kernelspec": {
   "display_name": "DEM-GNN2",
   "language": "python",
   "name": "python3"
  },
  "language_info": {
   "codemirror_mode": {
    "name": "ipython",
    "version": 3
   },
   "file_extension": ".py",
   "mimetype": "text/x-python",
   "name": "python",
   "nbconvert_exporter": "python",
   "pygments_lexer": "ipython3",
   "version": "3.11.11"
  }
 },
 "nbformat": 4,
 "nbformat_minor": 2
}
