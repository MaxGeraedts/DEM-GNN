{
 "cells": [
  {
   "cell_type": "code",
   "execution_count": 1,
   "metadata": {},
   "outputs": [
    {
     "data": {
      "text/plain": [
       "True"
      ]
     },
     "execution_count": 1,
     "metadata": {},
     "output_type": "execute_result"
    }
   ],
   "source": [
    "import torch\n",
    "import torch.nn.functional as F\n",
    "\n",
    "from torch_geometric.data import Batch, Data, DataLoader, InMemoryDataset\n",
    "from torch_geometric.nn import MessagePassing\n",
    "import torch_geometric.transforms as T\n",
    "\n",
    "import numpy as np\n",
    "import matplotlib.pyplot as plt\n",
    "import os\n",
    "\n",
    "from tqdm import tqdm, trange\n",
    "from IPython.display import clear_output\n",
    "from typing import Literal\n",
    "\n",
    "torch.cuda.is_available()"
   ]
  },
  {
   "cell_type": "code",
   "execution_count": 2,
   "metadata": {},
   "outputs": [],
   "source": [
    "from ML_functions import DEM_Dataset, Trainer, GetModel"
   ]
  },
  {
   "cell_type": "code",
   "execution_count": 3,
   "metadata": {},
   "outputs": [
    {
     "name": "stderr",
     "output_type": "stream",
     "text": [
      "c:\\Users\\20182319\\AppData\\Local\\anaconda3\\envs\\DEM-GNN2\\Lib\\site-packages\\torch_geometric\\data\\dataset.py:240: UserWarning: The `pre_transform` argument differs from the one used in the pre-processed version of this dataset. If you want to make use of another pre-processing technique, pass `force_reload=True` explicitly to reload the dataset.\n",
      "  warnings.warn(\n",
      "c:\\Users\\20182319\\AppData\\Local\\anaconda3\\envs\\DEM-GNN2\\Lib\\site-packages\\torch_geometric\\io\\fs.py:229: UserWarning: Weights only load failed. Please file an issue to make `torch.load(weights_only=True)` compatible in your case. Please use `torch.serialization.add_safe_globals([_reconstruct])` to allowlist this global.\n",
      "  warnings.warn(f\"{warn_msg} Please use \"\n"
     ]
    }
   ],
   "source": [
    "dataset_name=\"N400_Mono\"\n",
    "model_ident = \"Model_2\"\n",
    "data_split=[0.85, 0.95]\n",
    "pre_transform = T.Compose([T.Cartesian(False),\n",
    "                           T.Distance(norm=False,cat=True)])\n",
    "transform       = None\n",
    "force_reload    = False\n",
    "train           = False\n",
    "\n",
    "dataset_test      =     DEM_Dataset(dataset_name,\"test\"    ,'delta', force_reload, pre_transform)\n",
    "\n",
    "if train == True:\n",
    "    dataset_train     = DEM_Dataset(dataset_name,\"train\"   ,'delta', force_reload, pre_transform)\n",
    "    dataset_val       = DEM_Dataset(dataset_name,\"validate\",'delta', force_reload, pre_transform)\n",
    "\n",
    "    model = GetModel(dataset_name,model_ident,edge_dim=4)\n",
    "    trainer = Trainer(model, dataset_train,dataset_val,\n",
    "                      batch_size=32,\n",
    "                      lr=0.0000001,\n",
    "                      epochs=2000,\n",
    "                      model_name=f\"{dataset_name}{model_ident}\")\n",
    "    #trainer.train_loop()"
   ]
  },
  {
   "cell_type": "code",
   "execution_count": 4,
   "metadata": {},
   "outputs": [
    {
     "data": {
      "text/plain": [
       "0.003923905380108228"
      ]
     },
     "execution_count": 4,
     "metadata": {},
     "output_type": "execute_result"
    }
   ],
   "source": [
    "def AverageDX(data):\n",
    "    norm = torch.norm(data.y,dim=1)\n",
    "    return torch.mean(norm)\n",
    "\n",
    "dataset_test.y.abs().mean().item()"
   ]
  },
  {
   "cell_type": "code",
   "execution_count": 5,
   "metadata": {},
   "outputs": [],
   "source": [
    "#print(dataset_train.pos.min(),dataset_train.pos.max())\n",
    "#print(dataset_val.pos.min(),dataset_val.pos.max())\n",
    "#print(dataset_test.pos.min(),dataset_test.pos.max())\n",
    "\n",
    "#print(dataset_train.x.max(dim=0)[0])\n",
    "#print(dataset_val.x.max(dim=0)[0])\n",
    "#print(dataset_test.x.max(dim=0)[0])\n",
    "#dataset_train.y.mean()\n"
   ]
  },
  {
   "cell_type": "code",
   "execution_count": 6,
   "metadata": {},
   "outputs": [],
   "source": [
    "def FilterStart(dataset):\n",
    "    idx = np.nonzero([data.time == 0 for data in dataset])\n",
    "    return torch.utils.data.Subset(dataset_test,idx)[0]\n",
    "\n",
    "#dataset_test_start = FilterStart(dataset_test)"
   ]
  },
  {
   "cell_type": "code",
   "execution_count": 7,
   "metadata": {},
   "outputs": [],
   "source": [
    "from Encoding import ToPytorchData, GetLength\n",
    "\n",
    "def GetLimits(data):\n",
    "    max = [torch.max(data.x[:,i]) for i in [0, 1, 2]]\n",
    "    min = [torch.min(data.x[:,i]) for i in [0, 1, 2]]\n",
    "    max = torch.stack(max)\n",
    "    min = torch.stack(min)\n",
    "    limits = torch.stack([min,max],dim=1)\n",
    "    return limits\n"
   ]
  },
  {
   "cell_type": "code",
   "execution_count": 32,
   "metadata": {},
   "outputs": [],
   "source": [
    "class LearnedSimulator:\n",
    "    def BCrollout(self):\n",
    "        print(\"Calculating BC\")\n",
    "        BC_rollout = np.empty((GetLength(self.par_data),6,9))\n",
    "        BC_t=np.copy(self.BC)\n",
    "        for t in trange(GetLength(self.par_data)):\n",
    "            BC_t[:,:3] = self.BC[:,:3]+(t+1)*self.BC[:,-3:] \n",
    "            BC_rollout[t] = BC_t\n",
    "        return BC_rollout\n",
    "    \n",
    "    def GroundTruth_Rollout(self):\n",
    "        print(\"Collecting Ground Truth Rollout\")\n",
    "        GroundTruth = np.empty(GetLength(self.par_data),dtype=object)\n",
    "        for t in trange(GetLength(self.par_data)):\n",
    "            data, MatlabTopology = ToPytorchData(self.par_data[t],self.BC_rollout[t],self.tol,self.topology[t],center=False)\n",
    "            GroundTruth[t] = data\n",
    "            GroundTruth[t].MatlabTopology = MatlabTopology\n",
    "        return GroundTruth\n",
    "    \n",
    "    def MLRollout(self):\n",
    "        print(\"Calculating Learned Rollout\")\n",
    "        with torch.inference_mode():\n",
    "            ML_Rollout = np.empty((self.timesteps),dtype=object)\n",
    "            par_inp = self.par_data[0]\n",
    "            ML_Rollout[0], MatlabTopology = ToPytorchData(par_inp,self.BC_rollout[0],self.tol,center=False)\n",
    "            ML_Rollout[0].MatlabTopology = MatlabTopology\n",
    "            for t in tqdm(range(1,self.timesteps)):\n",
    "                input_data, MatlabTopology = ToPytorchData(par_inp,self.BC_rollout[t],self.tol)\n",
    "                    #transform = T.Compose([T.Cartesian(False), T.Distance(norm=False,cat=True)])\n",
    "                input_data = self.transform(input_data)\n",
    "                input_data.to(self.device)\n",
    "                output = self.model(input_data)\n",
    "                par_inp[:,:3] = par_inp[:,:3]+output[input_data.mask].cpu().numpy()\n",
    "                output_data, MatlabTopology = ToPytorchData(par_inp,self.BC_rollout[t],self.tol,MatlabTopology,center=False)\n",
    "                ML_Rollout[t] = output_data\n",
    "                ML_Rollout[t].MatlabTopology = MatlabTopology\n",
    "        return ML_Rollout\n",
    "    \n",
    "    def __init__(self,model,data_agr, top_agr,BC_agr,i: int,tol,transform,timesteps=100):\n",
    "        self.device = torch.device('cuda' if torch.cuda.is_available()else 'cpu')\n",
    "        self.BC = BC_agr[i]\n",
    "        self.par_data = data_agr[i]\n",
    "        self.topology = top_agr[i]\n",
    "        self.model = model.to(self.device)\n",
    "        self.data_list = []\n",
    "        self.timesteps = timesteps\n",
    "        self.tol = tol\n",
    "        self.transform = transform\n",
    "        self.BC_rollout = self.BCrollout()\n",
    "        self.GroundTruth = self.GroundTruth_Rollout()\n",
    "        self.ML_rollout = self.MLRollout()"
   ]
  },
  {
   "cell_type": "code",
   "execution_count": 33,
   "metadata": {},
   "outputs": [],
   "source": [
    "from Encoding import load\n",
    "def SplitData(dataset_name,data_split):\n",
    "    loaded_data = load(dataset_name)\n",
    "    splits=np.array(data_split)*loaded_data[0].shape[0]\n",
    "    test_data = [np.split(data,splits.astype(int))[2] for data in loaded_data]\n",
    "    return test_data"
   ]
  },
  {
   "cell_type": "code",
   "execution_count": 34,
   "metadata": {},
   "outputs": [],
   "source": [
    "from Encoding import load\n",
    "from ML_functions import DataMask\n",
    "def MaskTestData(dataset_name):\n",
    "    loaded_data = load(dataset_name)\n",
    "    mask = DataMask(loaded_data[0],)[2]\n",
    "    test_data = [data[mask] for data in loaded_data]\n",
    "    return test_data"
   ]
  },
  {
   "cell_type": "code",
   "execution_count": 35,
   "metadata": {},
   "outputs": [
    {
     "name": "stdout",
     "output_type": "stream",
     "text": [
      "No Trained model\n"
     ]
    }
   ],
   "source": [
    "from Plotting import PlotXYZ\n",
    "from ML_functions import NormalizePos, GetModel\n",
    "dataset_name = \"N400_Mono\"\n",
    "model_ident = \"Model_3\"\n",
    "model = GetModel(dataset_name,model_ident)\n",
    "\n",
    "tol = 0\n",
    "transform = T.Compose([NormalizePos(dataset_name),pre_transform])\n",
    "AggregatedArgs = MaskTestData(dataset_name)"
   ]
  },
  {
   "cell_type": "code",
   "execution_count": 36,
   "metadata": {},
   "outputs": [
    {
     "name": "stdout",
     "output_type": "stream",
     "text": [
      "Calculating BC\n"
     ]
    },
    {
     "name": "stderr",
     "output_type": "stream",
     "text": [
      "100%|██████████| 100/100 [00:00<00:00, 21587.85it/s]\n"
     ]
    },
    {
     "name": "stdout",
     "output_type": "stream",
     "text": [
      "Collecting Ground Truth Rollout\n"
     ]
    },
    {
     "name": "stderr",
     "output_type": "stream",
     "text": [
      "100%|██████████| 100/100 [00:00<00:00, 166.08it/s]\n"
     ]
    },
    {
     "name": "stdout",
     "output_type": "stream",
     "text": [
      "Calculating Learned Rollout\n"
     ]
    },
    {
     "name": "stderr",
     "output_type": "stream",
     "text": [
      "100%|██████████| 99/99 [01:12<00:00,  1.37it/s]\n"
     ]
    }
   ],
   "source": [
    "for sample_idx in [0]:\n",
    "    #AggregatedArgs = SplitData(dataset_name,data_split)\n",
    "    Rollout = LearnedSimulator(model,*AggregatedArgs,i=sample_idx,tol=tol,transform=transform,timesteps=100)\n",
    "\n",
    "    if dataset_name == \"2Sphere\": \n",
    "        PlotXYZ(Rollout,t_max=100)"
   ]
  },
  {
   "cell_type": "code",
   "execution_count": 30,
   "metadata": {},
   "outputs": [
    {
     "data": {
      "text/plain": [
       "Data(x=[574, 7], edge_index=[2, 1936], pos=[574, 3], mask=[574], edge_mask=[1936], MatlabTopology=[1055, 2])"
      ]
     },
     "execution_count": 30,
     "metadata": {},
     "output_type": "execute_result"
    }
   ],
   "source": [
    "data = Rollout.ML_rollout[0]\n",
    "data"
   ]
  },
  {
   "cell_type": "code",
   "execution_count": 14,
   "metadata": {},
   "outputs": [
    {
     "data": {
      "text/plain": [
       "array([5, 5, 5, 5, 5, 0, 5, 5, 5, 5, 5, 5, 5, 5, 5, 0, 0, 5, 0, 0, 0, 0,\n",
       "       5, 1, 5, 1, 5, 1, 0, 1, 1, 1, 5, 5, 5, 0, 0, 0, 5, 0, 4, 5, 5, 0,\n",
       "       5, 5, 3, 5, 3, 3, 5, 3, 5, 1, 0, 1, 1, 1, 0, 4, 3, 3, 5, 3, 3, 5,\n",
       "       4, 4, 0, 4, 0, 4, 5, 4, 4, 4, 0, 1, 1, 5, 1, 5, 1, 1, 3, 3, 2, 2,\n",
       "       2, 0, 1, 0, 1, 3, 3, 1, 1, 1, 0, 2, 2, 4, 4, 2, 4, 4, 3, 3, 3, 3,\n",
       "       5, 4, 5, 4, 4, 0, 4, 0, 4, 1, 2, 2, 2, 2, 1, 2, 1, 1, 3, 3, 3, 2,\n",
       "       2, 2, 2, 1, 2, 2, 1, 0, 2, 2, 2, 4, 4, 2, 2, 2, 2, 2, 4, 4, 2, 3,\n",
       "       2, 4, 4, 3, 4, 3, 0, 4, 0, 2, 0, 2, 1, 3, 2, 3, 1, 2, 2, 3, 2, 2,\n",
       "       2])"
      ]
     },
     "execution_count": 14,
     "metadata": {},
     "output_type": "execute_result"
    }
   ],
   "source": [
    "Wallcontact = data.MatlabTopology[data.MatlabTopology[:,1]<0]\n",
    "Wallcontact[:,1] += 2\n",
    "Wallcontact[:,1] *= -1\n",
    "Wallcontact[:,1]\n",
    "#data.edge_index[:,np.invert(data.edge_mask)].T"
   ]
  },
  {
   "cell_type": "code",
   "execution_count": 37,
   "metadata": {},
   "outputs": [
    {
     "name": "stderr",
     "output_type": "stream",
     "text": [
      "0it [00:00, ?it/s]"
     ]
    },
    {
     "name": "stderr",
     "output_type": "stream",
     "text": [
      "100it [00:19,  5.13it/s]\n",
      "100it [00:09, 10.11it/s]\n"
     ]
    },
    {
     "data": {
      "image/png": "[encoded data removed]",
      "text/plain": [
       "<Figure size 1000x700 with 1 Axes>"
      ]
     },
     "metadata": {},
     "output_type": "display_data"
    }
   ],
   "source": [
    "from Plotting import PlotFres\n",
    "from Evaluation import AggregateForces\n",
    "Fcontact_GT,Fres_GT, Fnorm_GT, Fsum_GT = AggregateForces(Rollout.GroundTruth)\n",
    "Fcontact_ML,Fres_ML, Fnorm_ML, Fsum_ML = AggregateForces(Rollout.ML_rollout)\n",
    "fig = PlotFres(Fsum_GT,Fsum_ML)"
   ]
  },
  {
   "cell_type": "code",
   "execution_count": 38,
   "metadata": {},
   "outputs": [
    {
     "data": {
      "text/plain": [
       "(torch.Size([1936, 3]), torch.Size([2, 1936]))"
      ]
     },
     "execution_count": 38,
     "metadata": {},
     "output_type": "execute_result"
    }
   ],
   "source": [
    "Fcontact_GT[0].shape,Rollout.GroundTruth[0].edge_index.shape"
   ]
  },
  {
   "cell_type": "code",
   "execution_count": null,
   "metadata": {},
   "outputs": [
    {
     "data": {
      "text/plain": [
       "tensor([[-250.5344,    0.0000,    0.0000],\n",
       "        [   0.0000, -258.0691,    0.0000],\n",
       "        [   0.0000,    0.0000, -374.4981],\n",
       "        [ 250.5127,    0.0000,    0.0000],\n",
       "        [   0.0000,  258.0591,    0.0000],\n",
       "        [   0.0000,    0.0000,  374.4870]])"
      ]
     },
     "execution_count": 80,
     "metadata": {},
     "output_type": "execute_result"
    }
   ],
   "source": [
    "from Evaluation import GetVolumeAndExtremeDims\n",
    "BC = Rollout.BC_rollout[0]\n",
    "def GetWallArea(BC):\n",
    "    maxdims = GetVolumeAndExtremeDims(BC)[1]\n",
    "    [x,y,z] = maxdims[:,1] - maxdims[:,0]\n",
    "    x,y,z = x.item(),y.item(),z.item()\n",
    "    A_wall = [y*z,x*z,x*y,y*z,x*z,x*y]\n",
    "    return A_wall\n",
    "\n",
    "datalist = Rollout.GroundTruth\n",
    "BC_rollout = Rollout.BC_rollout\n",
    "Nwalls = 6\n",
    "F_wall = torch.zeros((Nwalls,len(datalist),3))\n",
    "for t,data in enumerate(datalist): \n",
    "    F_PWcontact = Fcontact_GT[t][np.invert(data.edge_mask),:]\n",
    "    Wallcontact = data.MatlabTopology[data.MatlabTopology[:,1]<0]\n",
    "    Wallcontact[:,1] += 2\n",
    "    Wallcontact[:,1] *= -1\n",
    "    Wall_idx = Wallcontact[:,1]\n",
    "    F_PWcontact.shape, Wall_idx.shape\n",
    "    for i,Wall in enumerate(Wall_idx):\n",
    "        F_wall[Wall,t,:] += F_PWcontact[i,:]\n",
    "    A_wall = GetWallArea(BC_rollout[t])\n",
    "\n",
    "F_wall[:,50,:]"
   ]
  },
  {
   "cell_type": "code",
   "execution_count": null,
   "metadata": {},
   "outputs": [],
   "source": [
    "#plt.hist(Fnorm_GT[0],density=True)\n",
    "#plt.hist(Fnorm_GT[10],density=True)\n",
    "#plt.hist(Fnorm_GT[99],density=True)\n",
    "from Plotting import PlotForceDistributionComparison\n",
    "quantiles = [1,5,10,25,50]\n",
    "fig, ax = PlotForceDistributionComparison(Fnorm_GT,Fnorm_ML,quantiles)"
   ]
  },
  {
   "cell_type": "code",
   "execution_count": null,
   "metadata": {},
   "outputs": [],
   "source": [
    "from Evaluation import GetContactForce\n",
    "from Encoding import ConvertToDirected\n",
    "data = Rollout.GroundTruth[0].clone()\n",
    "force = GetContactForce(data)\n",
    "GT = np.loadtxt('PairContact001.txt')\n",
    "\n",
    "data =ConvertToDirected(data)\n",
    "force2 = GetContactForce(data)\n",
    "\n",
    "print(torch.norm(force,dim=1).size())\n",
    "print(torch.norm(force2,dim=1))\n",
    "\n",
    "torch.all(np.round(GT[:,2],2)==torch.round(torch.norm(force2,dim=1),decimals=2))"
   ]
  },
  {
   "cell_type": "code",
   "execution_count": null,
   "metadata": {},
   "outputs": [],
   "source": [
    "from Plotting import PlotGraphComparison\n",
    "save = False\n",
    "show = True\n",
    "for t in range(1,Rollout.timesteps,20):  \n",
    "    fig = PlotGraphComparison(t,Rollout,sample_idx,tol,plot_lines=True)\n",
    "    if save == True: plt.savefig(f\"{os.getcwd()}\\\\Figures\\\\Plots\\\\Graph_Sample{sample_idx}_Time{t}_Tol{str(tol)[2:]}.png\",bbox_inches='tight')     \n",
    "    if show == True: plt.show()"
   ]
  },
  {
   "cell_type": "code",
   "execution_count": null,
   "metadata": {},
   "outputs": [],
   "source": [
    "data,top,bc = AggregatedArgs\n",
    "top[0][0].shape, GT.shape"
   ]
  },
  {
   "cell_type": "code",
   "execution_count": null,
   "metadata": {},
   "outputs": [],
   "source": [
    "from Plotting import GetInternalStressRollout\n",
    "stress = GetInternalStressRollout(Rollout)\n",
    "torch.set_printoptions(4)\n",
    "print(\"Stress at time 0\")\n",
    "print(torch.round(stress[0],decimals=8)),\n",
    "print(\"\\nStress at time 99\")\n",
    "print(torch.round(stress[-1],decimals=1))"
   ]
  },
  {
   "cell_type": "code",
   "execution_count": null,
   "metadata": {},
   "outputs": [],
   "source": [
    "from Plotting import PlotContactVectorAndForce, GetAllContactpoints,AxesLimits\n",
    "data = Rollout.GroundTruth[0]\n",
    "BC = Rollout.BC_rollout[3]\n",
    "fig,axs = PlotContactVectorAndForce(data,BC)\n",
    "for ax in axs: AxesLimits(ax,BC)"
   ]
  },
  {
   "cell_type": "code",
   "execution_count": null,
   "metadata": {},
   "outputs": [],
   "source": [
    "import pyvista as pv\n",
    "from Plotting import MakeGIF, PlotMeshNormals\n",
    "\n",
    "\n",
    "#datalist = Rollout.ML_rollout\n",
    "#gifname = f\"ML_2_{sample_idx}_Tol{str(tol)[2:]}\"\n",
    "gifname = \"Model3_deform\"\n",
    "datalist = Rollout.GroundTruth\n",
    "datalist = Rollout.ML_rollout\n",
    "MakeGIF(datalist,gifname,fps=8,color='lightblue',deformation=True)\n",
    "\n",
    "#data = Rollout.ML_rollout[10]\n",
    "#data = Rollout.GroundTruth[0]\n",
    "#PlotMeshNormals(data)\n"
   ]
  },
  {
   "cell_type": "code",
   "execution_count": null,
   "metadata": {},
   "outputs": [],
   "source": [
    "data = Rollout.ML_rollout[0]\n",
    "#data = Rollout.GroundTruth[0]"
   ]
  }
 ],
 "metadata": {
  "kernelspec": {
   "display_name": "DEM-GNN2",
   "language": "python",
   "name": "python3"
  },
  "language_info": {
   "codemirror_mode": {
    "name": "ipython",
    "version": 3
   },
   "file_extension": ".py",
   "mimetype": "text/x-python",
   "name": "python",
   "nbconvert_exporter": "python",
   "pygments_lexer": "ipython3",
   "version": "3.11.11"
  }
 },
 "nbformat": 4,
 "nbformat_minor": 2
}
