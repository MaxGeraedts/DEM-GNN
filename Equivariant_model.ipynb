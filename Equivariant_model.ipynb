{
 "cells": [
  {
   "cell_type": "code",
   "execution_count": 1,
   "metadata": {},
   "outputs": [
    {
     "data": {
      "text/plain": [
       "True"
      ]
     },
     "execution_count": 1,
     "metadata": {},
     "output_type": "execute_result"
    }
   ],
   "source": [
    "import torch\n",
    "import torch.nn.functional as F\n",
    "\n",
    "from torch_geometric.data import Data, DataLoader, InMemoryDataset\n",
    "from torch_geometric.nn import MessagePassing\n",
    "import torch_geometric.transforms as T\n",
    "\n",
    "import numpy as np\n",
    "import matplotlib.pyplot as plt\n",
    "import os\n",
    "from tqdm import tqdm, trange\n",
    "from IPython.display import clear_output\n",
    "from typing import Literal\n",
    "\n",
    "torch.cuda.is_available()"
   ]
  },
  {
   "cell_type": "code",
   "execution_count": 2,
   "metadata": {},
   "outputs": [],
   "source": [
    "from Encoding import GetEdgeIdx, Encoding\n",
    "class DEM_Dataset(InMemoryDataset):\n",
    "    def __init__(self,file_name: str,data_split,\n",
    "                 Dataset_type: Literal[\"train\",\"validate\",\"test\"],\n",
    "                 mode: Literal[\"cart\",\"delta\"],\n",
    "                 root: str = os.getcwd()+r\"\\Data\", \n",
    "                 force_reload=False,transform=None, pre_transform=None, pre_filter=None):\n",
    "        \n",
    "        self.raw_data_path = f\"{root}\\\\raw\"\n",
    "        self.processed_data_path = f\"{root}\\\\processed\"\n",
    "        self.file_name = file_name\n",
    "        self.Dataset_type = Dataset_type\n",
    "        self.mode = mode\n",
    "        self.data_split = data_split\n",
    "        super(DEM_Dataset,self).__init__(root, transform, pre_transform,pre_filter,force_reload)\n",
    "        self.load(os.path.join(self.processed_data_path,self.processed_file_names[0]))\n",
    "\n",
    "    @property \n",
    "    def raw_file_names(self):\n",
    "        return[f\"{self.file_name}_Data.npy\",\n",
    "               f\"{self.file_name}_Topology.npy\",\n",
    "               f\"{self.file_name}_BC.npy\"]\n",
    "    \n",
    "    @property\n",
    "    def processed_file_names(self):\n",
    "        if self.pre_filter is None: return [f\"{self.file_name}_{self.mode}_{self.Dataset_type}.pt\"]\n",
    "        else: return [f\"{self.file_name}_{self.mode}_{self.Dataset_type}_init.pt\"]\n",
    "    \n",
    "    def download(self):\n",
    "        pass\n",
    "    \n",
    "    # Load data and split them according to dataset split\n",
    "    def LoadSimTop(self,i):\n",
    "        data = np.load(f\"{self.raw_data_path}\\\\{self.raw_file_names[i]}\",allow_pickle=True)\n",
    "        Daset_type_idx = {\"train\":0,\"validate\":1,\"test\":2}[self.Dataset_type]\n",
    "        splits=np.array(self.data_split)*data.shape[0]\n",
    "        return np.split(data,splits.astype(int))[Daset_type_idx]\n",
    "\n",
    "    def process(self):\n",
    "        data_list = []\n",
    "        data_agr,top_agr,bc= [self.LoadSimTop(i) for i in [0,1,2]]\n",
    "        simulations,topologies = Encoding(data_agr,top_agr,bc)\n",
    "            \n",
    "        if self.pre_filter is not None:\n",
    "            simulations = self.pre_filter(simulations)\n",
    "\n",
    "        for sim, top in tqdm(zip(simulations,topologies)):\n",
    "            for t in np.arange(len(sim)-1):\n",
    "                real_idx = sim[t][:,-1:].squeeze().nonzero()\n",
    "                maskx = np.squeeze(sim[t][:,-1:]==1)\n",
    "                x = torch.tensor(sim[t],dtype=torch.float)\n",
    "                \n",
    "                y_abs = torch.tensor(sim[t+1][real_idx,:3],dtype=torch.float).squeeze()\n",
    "                if self.mode == 'cart':     y = y_abs    \n",
    "                if self.mode == 'delta':    y = y_abs-x[maskx,:3]\n",
    "                    \n",
    "                edge_index = GetEdgeIdx(top[t],real_idx) \n",
    "                data = Data(pos=x[:,:3],x=x[:,3:],y=y,edge_index=edge_index,mask=maskx,time=t)\n",
    "                data_list.append(data)\n",
    "\n",
    "        if self.pre_transform is not None:\n",
    "            data_list = [self.pre_transform(data) for data in data_list]        \n",
    "                \n",
    "        self.save(data_list, os.path.join(self.processed_data_path,self.processed_file_names[0]))"
   ]
  },
  {
   "cell_type": "code",
   "execution_count": 3,
   "metadata": {},
   "outputs": [
    {
     "name": "stderr",
     "output_type": "stream",
     "text": [
      "c:\\Users\\Gebruiker\\anaconda3\\envs\\DEM-GNN\\Lib\\site-packages\\torch_geometric\\io\\fs.py:229: UserWarning: Weights only load failed. Please file an issue to make `torch.load(weights_only=True)` compatible in your case. Please use `torch.serialization.add_safe_globals([scalar])` to allowlist this global.\n",
      "  warnings.warn(f\"{warn_msg} Please use \"\n"
     ]
    }
   ],
   "source": [
    "transform_norm = T.Compose([T.NormalizeScale(),T.Cartesian(False)])\n",
    "transform_eq = T.Cartesian(False)\n",
    "\n",
    "file_name=\"2Sphere\"\n",
    "data_split=[0.85, 0.95]\n",
    "transform = transform_eq\n",
    "\n",
    "dataset_train     = DEM_Dataset(file_name, data_split,\"train\"   ,'delta', pre_transform=transform,force_reload=True)\n",
    "dataset_val       = DEM_Dataset(file_name, data_split,\"validate\",'delta', pre_transform=transform,force_reload=True)\n",
    "dataset_test      = DEM_Dataset(file_name, data_split,\"test\"    ,'delta', pre_transform=transform,force_reload=True)"
   ]
  },
  {
   "cell_type": "code",
   "execution_count": 4,
   "metadata": {},
   "outputs": [],
   "source": [
    "class RelPosConv(MessagePassing):\n",
    "    def __init__(self, emb_dim, msg_dim, out_channels, aggr = 'mean'):\n",
    "        super().__init__(aggr=aggr)\n",
    "        self.edge_mlp = torch.nn.Linear(emb_dim+emb_dim,msg_dim)\n",
    "        self.update_mlp = torch.nn.Linear(emb_dim+msg_dim,out_channels)\n",
    "        self.reset_parameters()\n",
    "\n",
    "    def forward(self,x,edge_attr,edge_index):\n",
    "        out = self.propagate(edge_index,x=x,edge_attr=edge_attr)\n",
    "        return out\n",
    "    \n",
    "    def message(self, x_j, edge_attr):\n",
    "        tmp = torch.cat([x_j, edge_attr],dim=1)\n",
    "        return self.edge_mlp(tmp)\n",
    "    \n",
    "    def update(self,aggr_out,x):\n",
    "        cat = torch.cat([x, aggr_out],dim=1)\n",
    "        return self.update_mlp(cat)"
   ]
  },
  {
   "cell_type": "code",
   "execution_count": 5,
   "metadata": {},
   "outputs": [],
   "source": [
    "class GCONV_Model_RelPos(torch.nn.Module):\n",
    "    def __init__(self, emb_dim=64, msg_dim=64, node_dim=7, edge_dim=3, out_dim = 3):\n",
    "        super(GCONV_Model_RelPos,self).__init__()\n",
    "        self.node_embed = torch.nn.Linear(node_dim,emb_dim)\n",
    "        self.edge_embed = torch.nn.Linear(edge_dim,emb_dim)\n",
    "        self.conv1 = RelPosConv(emb_dim,msg_dim,emb_dim)\n",
    "        self.conv2 = RelPosConv(emb_dim,msg_dim,emb_dim)\n",
    "        self.conv3 = RelPosConv(emb_dim,msg_dim,out_dim)\n",
    "        self.mode = \"delta\"\n",
    "\n",
    "    def forward(self,data):\n",
    "        x, edge_attr, edge_index = data.x, data.edge_attr, data.edge_index\n",
    "        x = self.node_embed(x)\n",
    "        edge_attr = self.edge_embed(edge_attr)\n",
    "        x = F.relu(x)\n",
    "        x = self.conv1(x, edge_attr, edge_index)\n",
    "        x = F.relu(x)\n",
    "        x = self.conv2(x, edge_attr, edge_index)\n",
    "        x = F.relu(x)\n",
    "        x = self.conv3(x, edge_attr, edge_index)\n",
    "        return x"
   ]
  },
  {
   "cell_type": "code",
   "execution_count": 6,
   "metadata": {},
   "outputs": [],
   "source": [
    "class Trainer:\n",
    "    def __init__(self,model,dataset_train,dataset_val,batch_size,lr,epochs,model_name,loss_fn=torch.nn.MSELoss()):\n",
    "        self.model = model\n",
    "        self.batch_size = batch_size\n",
    "        self.lr = lr\n",
    "        self.epochs = epochs\n",
    "        self.loss_fn = loss_fn\n",
    "        self.model_name = model_name\n",
    "\n",
    "        self.device = torch.device('cuda' if torch.cuda.is_available()else 'cpu')\n",
    "        print(\"Device: \", self.device)\n",
    "        self.model.to(self.device)\n",
    "        self.optimizer = torch.optim.Adam(self.model.parameters(),lr=self.lr)\n",
    "        self.train_dl = self.make_data_loader(dataset_train, shuffle=True)\n",
    "        self.val_dl = self.make_data_loader(dataset_val, shuffle=False)\n",
    "\n",
    "    def make_data_loader(self, dataset, shuffle):\n",
    "        return DataLoader(dataset, batch_size=self.batch_size, shuffle=shuffle)\n",
    "    \n",
    "    def loss_batch(self, batch,opt=None):\n",
    "        out = self.model(batch)\n",
    "        mask = np.concatenate(batch.mask)\n",
    "        loss =self.loss_fn(out[mask], batch.y)\n",
    "\n",
    "        if opt is not None:\n",
    "            loss.backward()\n",
    "            opt.step()\n",
    "            opt.zero_grad()\n",
    "        return loss.item()\n",
    "\n",
    "    def batch_loop(self, dataloader, loss_list, axes, opt=None):\n",
    "        mean_loss = 0\n",
    "        for i, batch in enumerate(dataloader):\n",
    "            batch_loss = self.loss_batch(batch.to(self.device), opt)\n",
    "            mean_loss += batch_loss\n",
    "        mean_loss /= i\n",
    "        loss_list.append(mean_loss)\n",
    "        axes[0].plot(loss_list)\n",
    "        axes[1].plot(loss_list[-5:])\n",
    "        return mean_loss,loss_list\n",
    "\n",
    "    def train_loop(self):\n",
    "        train_loss, val_loss = [], []\n",
    "        best_model_loss = np.inf\n",
    "        for epoch in tqdm(range(self.epochs)):\n",
    "            clear_output(wait=True)\n",
    "            fig, axes = plt.subplots(1,2)\n",
    "            fig.set_figwidth(15)\n",
    "\n",
    "            self.model.train()  \n",
    "            mean_train_loss, train_loss = self.batch_loop(self.train_dl,train_loss,axes,self.optimizer)\n",
    "\n",
    "            self.model.eval()\n",
    "            with torch.inference_mode():\n",
    "                mean_val_loss, val_loss = self.batch_loop(self.val_dl,val_loss,axes)\n",
    "\n",
    "            for ax in axes: ax.set(xlabel='Epoch',ylabel='Loss'), ax.set_ylim(ymin=0), ax.set_xlim(xmin=0)\n",
    "\n",
    "            plt.show()\n",
    "\n",
    "            if mean_val_loss < best_model_loss:\n",
    "                best_model_loss = mean_val_loss\n",
    "                torch.save(self.model.state_dict(),os.path.join(os.getcwd(),\"Models\",self.model_name))\n",
    "\n",
    "            print(f\"Epoch {epoch}, Mean Train Loss: {mean_train_loss}, Mean Validation Loss: {mean_val_loss}\")\n",
    "        np.save(f\"{os.getcwd()}\\\\Models\\\\{self.model_name}_Training_Loss\",train_loss)\n",
    "        np.save(f\"{os.getcwd()}\\\\Models\\\\{self.model_name}_Validation_Loss\",val_loss)"
   ]
  },
  {
   "cell_type": "code",
   "execution_count": 7,
   "metadata": {},
   "outputs": [
    {
     "name": "stdout",
     "output_type": "stream",
     "text": [
      "Device:  cuda\n"
     ]
    },
    {
     "name": "stderr",
     "output_type": "stream",
     "text": [
      "c:\\Users\\Gebruiker\\anaconda3\\envs\\DEM-GNN\\Lib\\site-packages\\torch_geometric\\deprecation.py:26: UserWarning: 'data.DataLoader' is deprecated, use 'loader.DataLoader' instead\n",
      "  warnings.warn(out)\n"
     ]
    }
   ],
   "source": [
    "model = GCONV_Model_RelPos()\n",
    "trainer = Trainer(model, dataset_train,dataset_val,\n",
    "                  batch_size=64,\n",
    "                  lr=0.00000001,\n",
    "                  epochs=1000,\n",
    "                  model_name=f\"{file_name}_GCONV_Model_RelPos_03\")\n",
    "#trainer.train_loop()"
   ]
  },
  {
   "cell_type": "code",
   "execution_count": 8,
   "metadata": {},
   "outputs": [],
   "source": [
    "def FilterStart(dataset):\n",
    "    idx = np.nonzero([data.time == 0 for data in dataset])\n",
    "    return torch.utils.data.Subset(dataset_test,idx)[0]\n",
    "\n",
    "dataset_test_start = FilterStart(dataset_test)"
   ]
  },
  {
   "cell_type": "code",
   "execution_count": null,
   "metadata": {},
   "outputs": [],
   "source": [
    "from Encoding import ToPytorchData\n",
    "\n",
    "def GetLimits(data):\n",
    "    max = [torch.max(data.x[:,i]) for i in [0, 1, 2]]\n",
    "    min = [torch.min(data.x[:,i]) for i in [0, 1, 2]]\n",
    "    max = torch.stack(max)\n",
    "    min = torch.stack(min)\n",
    "    limits = torch.stack([min,max],dim=1)\n",
    "    return limits\n"
   ]
  },
  {
   "cell_type": "code",
   "execution_count": null,
   "metadata": {},
   "outputs": [],
   "source": [
    "class LearnedSimulator:\n",
    "    @property\n",
    "    def BCrollout(self):\n",
    "        print(\"Calculating BC\")\n",
    "        bc_rollout = np.empty((self.timesteps,6,9))\n",
    "        bc_t=np.copy(self.bc)\n",
    "        for t in range(self.timesteps):\n",
    "            bc_t[:,:3] = self.bc[:,:3]+(t+1)*self.bc[:,-3:] \n",
    "            bc_rollout[t] = bc_t\n",
    "        return bc_rollout\n",
    "    \n",
    "    def __init__(self,model,data_agr, top_agr,bc_agr,i: int,tol,timesteps=100):\n",
    "        self.device = torch.device('cuda' if torch.cuda.is_available()else 'cpu')\n",
    "        self.bc = bc_agr[i]\n",
    "        self.par_data = data_agr[i]\n",
    "        self.topology = top_agr[i]\n",
    "        self.model = model.to(self.device)\n",
    "        self.data_list = []\n",
    "        self.timesteps = timesteps\n",
    "        self.tol = tol\n",
    "        self.bc_rollout = self.BCrollout\n",
    "\n",
    "    @property\n",
    "    def GroundTruth(self):\n",
    "        GroundTruth = np.empty((self.timesteps),dtype=object)\n",
    "        for t in trange(self.timesteps):\n",
    "            data = ToPytorchData(self.par_data[t],self.bc_rollout[t],self.tol,self.topology[t])[0]\n",
    "            GroundTruth[t] = data\n",
    "        return GroundTruth\n",
    "\n",
    "    @property\n",
    "    def ML_Rollout(self):\n",
    "        with torch.inference_mode():\n",
    "            \n",
    "            ML_Rollout = np.empty((self.timesteps),dtype=object)\n",
    "            par_inp = self.par_data[0]\n",
    "            ML_Rollout[0] = ToPytorchData(par_inp,self.bc_rollout[0],self.tol)[0]\n",
    "\n",
    "            for t in tqdm(range(1,self.timesteps)):\n",
    "                input_data, MatlabTopology = ToPytorchData(par_inp,self.bc_rollout[t],self.tol)\n",
    "                if self.model.mode == 'delta': transform = T.Cartesian(norm=False)\n",
    "                input_data.to(self.device)\n",
    "\n",
    "                output = self.model(transform(input_data))\n",
    "                par_inp[:,:3] = par_inp[:,:3]+output[input_data.mask].cpu().numpy()\n",
    "                output_data = ToPytorchData(par_inp,self.bc_rollout[t],self.tol,MatlabTopology)\n",
    "                ML_Rollout[t] = output_data[0]\n",
    "\n",
    "        return ML_Rollout\n"
   ]
  },
  {
   "cell_type": "code",
   "execution_count": 11,
   "metadata": {},
   "outputs": [],
   "source": [
    "def GetModel(dataset_name,model_name):\n",
    "    model = GCONV_Model_RelPos()\n",
    "    model.load_state_dict(torch.load(f\"{os.getcwd()}\\\\Models\\\\{dataset_name}_GCONV_Model_{model_name}\"))\n",
    "    return model"
   ]
  },
  {
   "cell_type": "code",
   "execution_count": 12,
   "metadata": {},
   "outputs": [
    {
     "name": "stdout",
     "output_type": "stream",
     "text": [
      "Calculating BC\n"
     ]
    },
    {
     "name": "stderr",
     "output_type": "stream",
     "text": [
      "100%|██████████| 100/100 [00:00<00:00, 1896.18it/s]\n",
      "100%|██████████| 99/99 [00:00<00:00, 133.08it/s]\n"
     ]
    }
   ],
   "source": [
    "from Encoding import load\n",
    "\n",
    "dataset_name = \"2Sphere\"\n",
    "model_name = \"RelPos_02\"\n",
    "model = GetModel(dataset_name,model_name)\n",
    "AggregatedArgs = load(dataset_name)\n",
    "rol1 = LearnedSimulator(model,\n",
    "                        *AggregatedArgs,i=0,tol=0.1)\n",
    "\n",
    "GroundTruth = rol1.GroundTruth\n",
    "ML_Rollout = rol1.ML_Rollout"
   ]
  },
  {
   "cell_type": "code",
   "execution_count": null,
   "metadata": {},
   "outputs": [],
   "source": [
    "from Plotting import PlotGraph\n",
    "for t in trange(rol1.timesteps):  \n",
    "    if t % 10 == 0: PlotGraph(ML_Rollout[t], plot_lines=False)"
   ]
  },
  {
   "cell_type": "code",
   "execution_count": null,
   "metadata": {},
   "outputs": [],
   "source": [
    "def DataListToPositionArray(ML_Rollout):\n",
    "    ML_Real_pos = np.zeros((100,2,3))\n",
    "    for t,data in enumerate(ML_Rollout):\n",
    "        ML_Real_pos[t] = data.pos[data.mask]\n",
    "    return ML_Real_pos"
   ]
  },
  {
   "cell_type": "code",
   "execution_count": null,
   "metadata": {},
   "outputs": [],
   "source": [
    "from Plotting import PlotXYZ\n",
    "data_agr = AggregatedArgs[0]\n",
    "fig, axes = plt.subplots(1,3,sharey=True)\n",
    "fig.set_figwidth(19)\n",
    "t_max = 100\n",
    "for i, ax in enumerate(axes):   \n",
    "    PlotXYZ(rol1.bc_rollout,data_agr[0][:t_max],ML_Real_pos[:t_max], i,ax)\n",
    "    ax.set_xlim(xmin=0,xmax=t_max)"
   ]
  },
  {
   "cell_type": "code",
   "execution_count": null,
   "metadata": {},
   "outputs": [],
   "source": [
    "from Encoding import load\n",
    "file_name = \"2Sphere\"\n",
    "model_name = f\"{file_name}_GCONV_Model_RelPos_02\"\n",
    "data_start,data_agr,top_agr,bc_agr = load(file_name)\n",
    "model = GCONV_Model_RelPos()\n",
    "bc_rollout, ML_rollout = Rollout(model,\n",
    "                                 data_agr,\n",
    "                                 bc_agr,-5,model_name,100,False,\"cpu\",\"delta\")"
   ]
  }
 ],
 "metadata": {
  "kernelspec": {
   "display_name": "DEM-GNN",
   "language": "python",
   "name": "python3"
  },
  "language_info": {
   "codemirror_mode": {
    "name": "ipython",
    "version": 3
   },
   "file_extension": ".py",
   "mimetype": "text/x-python",
   "name": "python",
   "nbconvert_exporter": "python",
   "pygments_lexer": "ipython3",
   "version": "3.12.9"
  }
 },
 "nbformat": 4,
 "nbformat_minor": 2
}
