{
 "cells": [
  {
   "cell_type": "code",
   "execution_count": 1,
   "metadata": {},
   "outputs": [
    {
     "data": {
      "text/plain": [
       "True"
      ]
     },
     "execution_count": 1,
     "metadata": {},
     "output_type": "execute_result"
    }
   ],
   "source": [
    "import torch\n",
    "import torch.nn.functional as F\n",
    "\n",
    "from torch_geometric.data import Data, DataLoader, InMemoryDataset\n",
    "from torch_geometric.nn import MessagePassing\n",
    "import torch_geometric.transforms as T\n",
    "\n",
    "import numpy as np\n",
    "import matplotlib.pyplot as plt\n",
    "import os\n",
    "from tqdm import tqdm, trange\n",
    "from IPython.display import clear_output\n",
    "from typing import Literal\n",
    "\n",
    "torch.cuda.is_available()"
   ]
  },
  {
   "cell_type": "code",
   "execution_count": 2,
   "metadata": {},
   "outputs": [],
   "source": [
    "from Encoding import GetEdgeIdx, Encoding\n",
    "class DEM_Dataset(InMemoryDataset):\n",
    "    def __init__(self,file_name: str,data_split,\n",
    "                 Dataset_type: Literal[\"train\",\"validate\",\"test\"],\n",
    "                 mode: Literal[\"cart\",\"delta\"],\n",
    "                 root: str = os.getcwd()+r\"\\Data\", \n",
    "                 force_reload=False,transform=None, pre_transform=None, pre_filter=None):\n",
    "        \n",
    "        self.raw_data_path = f\"{root}\\\\raw\"\n",
    "        self.processed_data_path = f\"{root}\\\\processed\"\n",
    "        self.file_name = file_name\n",
    "        self.Dataset_type = Dataset_type\n",
    "        self.mode = mode\n",
    "        self.data_split = data_split\n",
    "        super().__init__(root, transform, pre_transform,pre_filter,force_reload=force_reload)\n",
    "        self.load(os.path.join(self.processed_data_path,self.processed_file_names[0]))\n",
    "\n",
    "    @property \n",
    "    def raw_file_names(self):\n",
    "        return[f\"{self.file_name}_Data.npy\",\n",
    "               f\"{self.file_name}_Topology.npy\",\n",
    "               f\"{self.file_name}_BC.npy\"]\n",
    "    \n",
    "    @property\n",
    "    def processed_file_names(self):\n",
    "        if self.pre_filter is None: return [f\"{self.file_name}_{self.mode}_{self.Dataset_type}.pt\"]\n",
    "        else: return [f\"{self.file_name}_{self.mode}_{self.Dataset_type}_init.pt\"]\n",
    "    \n",
    "    def download(self):\n",
    "        pass\n",
    "    \n",
    "    # Load data and split them according to dataset split\n",
    "    def LoadSimTop(self,i):\n",
    "        data = np.load(f\"{self.raw_data_path}\\\\{self.raw_file_names[i]}\",allow_pickle=True)\n",
    "        Daset_type_idx = {\"train\":0,\"validate\":1,\"test\":2}[self.Dataset_type]\n",
    "        splits=np.array(self.data_split)*data.shape[0]\n",
    "        return np.split(data,splits.astype(int))[Daset_type_idx]\n",
    "\n",
    "    def process(self):\n",
    "        data_list = []\n",
    "        data_agr,top_agr,bc= [self.LoadSimTop(i) for i in [0,1,2]]\n",
    "        simulations,topologies = Encoding(data_agr,top_agr,bc)\n",
    "            \n",
    "        if self.pre_filter is not None:\n",
    "            simulations = self.pre_filter(simulations)\n",
    "\n",
    "        for sim, top in tqdm(zip(simulations,topologies)):\n",
    "            for t in np.arange(len(sim)-1):\n",
    "                real_idx = sim[t][:,-1:].squeeze().nonzero()\n",
    "                maskx = np.squeeze(sim[t][:,-1:]==1)\n",
    "                x = torch.tensor(sim[t],dtype=torch.float)\n",
    "                \n",
    "                y_abs = torch.tensor(sim[t+1][real_idx,:3],dtype=torch.float).squeeze()\n",
    "                if self.mode == 'cart':     y = y_abs    \n",
    "                if self.mode == 'delta':    y = y_abs-x[maskx,:3]\n",
    "                    \n",
    "                edge_index = GetEdgeIdx(top[t],real_idx) \n",
    "                data = Data(pos=x[:,:3],x=x[:,3:],y=y,edge_index=edge_index,mask=maskx,time=t)\n",
    "                data_list.append(data)\n",
    "\n",
    "        if self.pre_transform is not None:\n",
    "            data_list = [self.pre_transform(data) for data in data_list]        \n",
    "                \n",
    "        self.save(data_list, os.path.join(self.processed_data_path,self.processed_file_names[0]))"
   ]
  },
  {
   "cell_type": "code",
   "execution_count": 4,
   "metadata": {},
   "outputs": [],
   "source": [
    "class RelPosConv(MessagePassing):\n",
    "    def __init__(self, emb_dim, msg_dim, out_channels, aggr = 'mean'):\n",
    "        super().__init__(aggr=aggr)\n",
    "        self.edge_mlp = torch.nn.Linear(emb_dim+emb_dim,msg_dim)\n",
    "        self.update_mlp = torch.nn.Linear(emb_dim+msg_dim,out_channels)\n",
    "        self.reset_parameters()\n",
    "\n",
    "    def forward(self,x,edge_attr,edge_index):\n",
    "        out = self.propagate(edge_index,x=x,edge_attr=edge_attr)\n",
    "        return out\n",
    "    \n",
    "    def message(self, x_j, edge_attr):\n",
    "        tmp = torch.cat([x_j, edge_attr],dim=1)\n",
    "        return self.edge_mlp(tmp)\n",
    "    \n",
    "    def update(self,aggr_out,x):\n",
    "        cat = torch.cat([x, aggr_out],dim=1)\n",
    "        return self.update_mlp(cat)"
   ]
  },
  {
   "cell_type": "code",
   "execution_count": 5,
   "metadata": {},
   "outputs": [],
   "source": [
    "class GCONV_Model_RelPos(torch.nn.Module):\n",
    "    def __init__(self, emb_dim=64, msg_dim=64, node_dim=7, edge_dim=4, out_dim = 3):\n",
    "        super(GCONV_Model_RelPos,self).__init__()\n",
    "        self.node_embed = torch.nn.Linear(node_dim,emb_dim)\n",
    "        self.edge_embed = torch.nn.Linear(edge_dim,emb_dim)\n",
    "        self.conv1 = RelPosConv(emb_dim,msg_dim,emb_dim)\n",
    "        self.conv2 = RelPosConv(emb_dim,msg_dim,emb_dim)\n",
    "        self.conv3 = RelPosConv(emb_dim,msg_dim,out_dim)\n",
    "        self.mode = \"delta\"\n",
    "\n",
    "    def forward(self,data):\n",
    "        x, edge_attr, edge_index = data.x, data.edge_attr, data.edge_index\n",
    "        x = self.node_embed(x)\n",
    "        edge_attr = self.edge_embed(edge_attr)\n",
    "        x = F.relu(x)\n",
    "        x = self.conv1(x, edge_attr, edge_index)\n",
    "        x = F.relu(x)\n",
    "        x = self.conv2(x, edge_attr, edge_index)\n",
    "        x = F.relu(x)\n",
    "        x = self.conv3(x, edge_attr, edge_index)\n",
    "        return x"
   ]
  },
  {
   "cell_type": "code",
   "execution_count": 6,
   "metadata": {},
   "outputs": [],
   "source": [
    "class Trainer:\n",
    "    def __init__(self,model,dataset_train,dataset_val,batch_size,lr,epochs,model_name,loss_fn=torch.nn.MSELoss()):\n",
    "        self.model = model\n",
    "        self.batch_size = batch_size\n",
    "        self.lr = lr\n",
    "        self.epochs = epochs\n",
    "        self.loss_fn = loss_fn\n",
    "        self.model_name = model_name\n",
    "\n",
    "        self.device = torch.device('cuda' if torch.cuda.is_available()else 'cpu')\n",
    "        print(\"Device: \", self.device)\n",
    "        self.model.to(self.device)\n",
    "        self.optimizer = torch.optim.Adam(self.model.parameters(),lr=self.lr)\n",
    "        self.train_dl = self.make_data_loader(dataset_train, shuffle=True)\n",
    "        self.val_dl = self.make_data_loader(dataset_val, shuffle=False)\n",
    "\n",
    "    def make_data_loader(self, dataset, shuffle):\n",
    "        return DataLoader(dataset, batch_size=self.batch_size, shuffle=shuffle)\n",
    "    \n",
    "    def loss_batch(self, batch,opt=None):\n",
    "        out = self.model(batch)\n",
    "        mask = np.concatenate(batch.mask)\n",
    "        loss =self.loss_fn(out[mask], batch.y)\n",
    "\n",
    "        if opt is not None:\n",
    "            loss.backward()\n",
    "            opt.step()\n",
    "            opt.zero_grad()\n",
    "        return loss.item()\n",
    "\n",
    "    def batch_loop(self, dataloader, loss_list, axes, opt=None):\n",
    "        mean_loss = 0\n",
    "        for i, batch in enumerate(dataloader):\n",
    "            batch_loss = self.loss_batch(batch.to(self.device), opt)\n",
    "            mean_loss += batch_loss\n",
    "        mean_loss /= i\n",
    "        loss_list.append(mean_loss)\n",
    "        axes[0].plot(loss_list)\n",
    "        axes[1].plot(loss_list[-5:])\n",
    "        return mean_loss,loss_list\n",
    "\n",
    "    def train_loop(self):\n",
    "        train_loss, val_loss = [], []\n",
    "        best_model_loss = np.inf\n",
    "        for epoch in tqdm(range(self.epochs)):\n",
    "            clear_output(wait=True)\n",
    "            fig, axes = plt.subplots(1,2)\n",
    "            fig.set_figwidth(15)\n",
    "\n",
    "            self.model.train()  \n",
    "            mean_train_loss, train_loss = self.batch_loop(self.train_dl,train_loss,axes,self.optimizer)\n",
    "\n",
    "            self.model.eval()\n",
    "            with torch.inference_mode():\n",
    "                mean_val_loss, val_loss = self.batch_loop(self.val_dl,val_loss,axes)\n",
    "\n",
    "            for ax in axes: ax.set(xlabel='Epoch',ylabel='Loss'), ax.set_ylim(ymin=0), ax.set_xlim(xmin=0)\n",
    "\n",
    "            plt.show()\n",
    "\n",
    "            if mean_val_loss < best_model_loss:\n",
    "                best_model_loss = mean_val_loss\n",
    "                torch.save(self.model.state_dict(),os.path.join(os.getcwd(),\"Models\",self.model_name))\n",
    "\n",
    "            print(f\"Epoch {epoch}, Mean Train Loss: {mean_train_loss}, Mean Validation Loss: {mean_val_loss}\")\n",
    "        np.save(f\"{os.getcwd()}\\\\Models\\\\{self.model_name}_Training_Loss\",train_loss)\n",
    "        np.save(f\"{os.getcwd()}\\\\Models\\\\{self.model_name}_Validation_Loss\",val_loss)"
   ]
  },
  {
   "cell_type": "code",
   "execution_count": 7,
   "metadata": {},
   "outputs": [],
   "source": [
    "def GetModel(dataset_name,model_name,edge_dim):\n",
    "    model = GCONV_Model_RelPos(edge_dim=edge_dim)\n",
    "    try: model.load_state_dict(torch.load(f\"{os.getcwd()}\\\\Models\\\\{dataset_name}_GCONV_Model_{model_name}\"))\n",
    "    except: print(\"No Trained model\")\n",
    "    return model"
   ]
  },
  {
   "cell_type": "code",
   "execution_count": 3,
   "metadata": {},
   "outputs": [],
   "source": [
    "transform_norm = T.Compose([T.NormalizeScale(),T.Cartesian(False)])\n",
    "transform_eq = T.Cartesian(False)\n",
    "transform_dist = T.Compose([T.Cartesian(False), T.Distance(norm=False,cat=True)])\n",
    "\n",
    "file_name=\"N400\"\n",
    "data_split=[0.85, 0.95]\n",
    "transform = transform_dist\n",
    "force_reload = False\n",
    "\n",
    "dataset_train     = DEM_Dataset(file_name, data_split,\"train\"   ,'delta', pre_transform=transform,force_reload=force_reload)\n",
    "dataset_val       = DEM_Dataset(file_name, data_split,\"validate\",'delta', pre_transform=transform,force_reload=force_reload)\n",
    "dataset_test      = DEM_Dataset(file_name, data_split,\"test\"    ,'delta', pre_transform=transform,force_reload=force_reload)"
   ]
  },
  {
   "cell_type": "code",
   "execution_count": null,
   "metadata": {},
   "outputs": [
    {
     "name": "stderr",
     "output_type": "stream",
     "text": [
      "c:\\Users\\Gebruiker\\anaconda3\\envs\\DEM-GNN\\Lib\\site-packages\\torch_geometric\\deprecation.py:26: UserWarning: 'data.DataLoader' is deprecated, use 'loader.DataLoader' instead\n",
      "  warnings.warn(out)\n"
     ]
    },
    {
     "name": "stdout",
     "output_type": "stream",
     "text": [
      "Device:  cuda\n"
     ]
    },
    {
     "name": "stderr",
     "output_type": "stream",
     "text": [
      "  0%|          | 0/2000 [00:00<?, ?it/s]"
     ]
    }
   ],
   "source": [
    "model = GetModel(\"N400\",\"RelPos_03\",edge_dim=4)\n",
    "trainer = Trainer(model, dataset_train,dataset_val,\n",
    "                  batch_size=64,\n",
    "                  lr=0.00000001,\n",
    "                  epochs=2000,\n",
    "                  model_name=f\"{file_name}_GCONV_Model_RelPos_03\")\n",
    "trainer.train_loop()"
   ]
  },
  {
   "cell_type": "code",
   "execution_count": null,
   "metadata": {},
   "outputs": [],
   "source": [
    "def FilterStart(dataset):\n",
    "    idx = np.nonzero([data.time == 0 for data in dataset])\n",
    "    return torch.utils.data.Subset(dataset_test,idx)[0]\n",
    "\n",
    "dataset_test_start = FilterStart(dataset_test)"
   ]
  },
  {
   "cell_type": "code",
   "execution_count": null,
   "metadata": {},
   "outputs": [],
   "source": [
    "from Encoding import ToPytorchData, GetLength\n",
    "\n",
    "def GetLimits(data):\n",
    "    max = [torch.max(data.x[:,i]) for i in [0, 1, 2]]\n",
    "    min = [torch.min(data.x[:,i]) for i in [0, 1, 2]]\n",
    "    max = torch.stack(max)\n",
    "    min = torch.stack(min)\n",
    "    limits = torch.stack([min,max],dim=1)\n",
    "    return limits\n"
   ]
  },
  {
   "cell_type": "code",
   "execution_count": null,
   "metadata": {},
   "outputs": [],
   "source": [
    "class LearnedSimulator:\n",
    "    def BCrollout(self):\n",
    "        print(\"Calculating BC\")\n",
    "        BC_rollout = np.empty((GetLength(self.par_data),6,9))\n",
    "        BC_t=np.copy(self.BC)\n",
    "        for t in trange(GetLength(self.par_data)):\n",
    "            BC_t[:,:3] = self.BC[:,:3]+(t+1)*self.BC[:,-3:] \n",
    "            BC_rollout[t] = BC_t\n",
    "        return BC_rollout\n",
    "    \n",
    "    def GroundTruth_Rollout(self):\n",
    "        print(\"Collecting Ground Truth Rollout\")\n",
    "        GroundTruth = np.empty(GetLength(self.par_data),dtype=object)\n",
    "        for t in trange(GetLength(self.par_data)):\n",
    "            data = ToPytorchData(self.par_data[t],self.BC_rollout[t],self.tol,self.topology[t])[0]\n",
    "            GroundTruth[t] = data\n",
    "        return GroundTruth\n",
    "    \n",
    "    def MLRollout(self):\n",
    "        print(\"Calculating Learned Rollout\")\n",
    "        with torch.inference_mode():\n",
    "            \n",
    "            ML_Rollout = np.empty((self.timesteps),dtype=object)\n",
    "            par_inp = self.par_data[0]\n",
    "            ML_Rollout[0] = ToPytorchData(par_inp,self.BC_rollout[0],self.tol)[0]\n",
    "\n",
    "            for t in tqdm(range(1,self.timesteps)):\n",
    "                input_data, MatlabTopology = ToPytorchData(par_inp,self.BC_rollout[t],self.tol)\n",
    "                if self.model.mode == 'delta': \n",
    "                    #transform = T.Compose([T.Cartesian(False), T.Distance(norm=False,cat=True)])\n",
    "                    transform = T.Cartesian(False)\n",
    "                input_data.to(self.device)\n",
    "\n",
    "                output = self.model(transform(input_data))\n",
    "                par_inp[:,:3] = par_inp[:,:3]+output[input_data.mask].cpu().numpy()\n",
    "                output_data = ToPytorchData(par_inp,self.BC_rollout[t],self.tol,MatlabTopology)\n",
    "                ML_Rollout[t] = output_data[0]\n",
    "        return ML_Rollout\n",
    "    \n",
    "    def __init__(self,model,data_agr, top_agr,BC_agr,i: int,tol,timesteps=100):\n",
    "        self.device = torch.device('cuda' if torch.cuda.is_available()else 'cpu')\n",
    "        self.BC = BC_agr[i]\n",
    "        self.par_data = data_agr[i]\n",
    "        self.topology = top_agr[i]\n",
    "        self.model = model.to(self.device)\n",
    "        self.data_list = []\n",
    "        self.timesteps = timesteps\n",
    "        self.tol = tol\n",
    "        self.BC_rollout = self.BCrollout()\n",
    "        self.GroundTruth = self.GroundTruth_Rollout()\n",
    "        self.ML_rollout = self.MLRollout()"
   ]
  },
  {
   "cell_type": "code",
   "execution_count": null,
   "metadata": {},
   "outputs": [],
   "source": [
    "from Encoding import load\n",
    "\n",
    "dataset_name = \"2Sphere\"\n",
    "model_name = \"RelPos_02\"\n",
    "model = GetModel(dataset_name,model_name,edge_dim=3)\n",
    "AggregatedArgs = load(dataset_name)\n",
    "Rollout = LearnedSimulator(model,*AggregatedArgs,i=3,tol=0,timesteps=100)"
   ]
  },
  {
   "cell_type": "code",
   "execution_count": null,
   "metadata": {},
   "outputs": [],
   "source": [
    "from Plotting import GetInternalStressRollout\n",
    "stress = GetInternalStressRollout(Rollout)\n",
    "stress[99]"
   ]
  },
  {
   "cell_type": "code",
   "execution_count": null,
   "metadata": {},
   "outputs": [],
   "source": [
    "from Plotting import PlotContactVectorAndForce, GetAllContactpoints\n",
    "data = Rollout.GroundTruth[3]\n",
    "BC = Rollout.BC_rollout[3]\n",
    "PlotContactVectorAndForce(data,BC)\n"
   ]
  },
  {
   "cell_type": "code",
   "execution_count": null,
   "metadata": {},
   "outputs": [],
   "source": [
    "fig = plt.figure()\n",
    "ax = fig.add_subplot(111, projection='3d')\n",
    "\n",
    "plotx, ploty, plotz = [contactpoints[:10,i] for i in [0,1,2]]\n",
    "ax.scatter(plotx,ploty,plotz)\n",
    "\n",
    "plotx, ploty, plotz = [data.pos[:10,i] for i in [0,1,2]]\n",
    "ax.scatter(plotx,ploty,plotz)\n",
    "\n",
    "d=1\n",
    "ax.set_xlim([BC[3,0]-d, BC[0,0]+d])\n",
    "ax.set_ylim([BC[4,1]-d, BC[1,1]+d])\n",
    "ax.set_zlim([BC[5,2]-d, BC[2,2]+d])\n",
    "ax.set_aspect('equal')"
   ]
  },
  {
   "cell_type": "code",
   "execution_count": null,
   "metadata": {},
   "outputs": [],
   "source": [
    "data = Rollout.ML_rollout[0]\n",
    "#data = Rollout.GroundTruth[0]"
   ]
  },
  {
   "cell_type": "code",
   "execution_count": null,
   "metadata": {},
   "outputs": [],
   "source": [
    "import pyvista as pv\n",
    "from Plotting import ParticleMesh\n",
    "\n",
    "plotter = pv.Plotter(notebook=False, off_screen=True)\n",
    "spheremesh = pv.merge(ParticleMesh(data))\n",
    "plotter.add_mesh(spheremesh, color='lightblue', show_edges=False)\n",
    "\n",
    "plotter.open_gif(f\"{os.getcwd()}\\\\Figures\\\\compaction.gif\",fps=7)\n",
    "\n",
    "for data in tqdm(Rollout.ML_rollout[1:]):\n",
    "    spheremesh.points = pv.merge(ParticleMesh(data)).points\n",
    "    plotter.write_frame()\n",
    "\n",
    "plotter.close()\n",
    "    "
   ]
  },
  {
   "cell_type": "code",
   "execution_count": null,
   "metadata": {},
   "outputs": [],
   "source": [
    "from Plotting import PlotXYZ\n",
    "if dataset_name == \"2Sphere\": \n",
    "    PlotXYZ(Rollout,t_max=100)"
   ]
  },
  {
   "cell_type": "code",
   "execution_count": null,
   "metadata": {},
   "outputs": [],
   "source": [
    "from Plotting import PlotGraph\n",
    "for t in range(Rollout.timesteps):  \n",
    "    if t % 25 == 0: PlotGraph(Rollout.GroundTruth[t], plot_lines=True), print(t)\n",
    "\n",
    "    #if t % 25 == 0: PlotGraph(Rollout.ML_rollout[t], plot_lines=True)"
   ]
  }
 ],
 "metadata": {
  "kernelspec": {
   "display_name": "DEM-GNN",
   "language": "python",
   "name": "python3"
  },
  "language_info": {
   "codemirror_mode": {
    "name": "ipython",
    "version": 3
   },
   "file_extension": ".py",
   "mimetype": "text/x-python",
   "name": "python",
   "nbconvert_exporter": "python",
   "pygments_lexer": "ipython3",
   "version": "3.12.3"
  }
 },
 "nbformat": 4,
 "nbformat_minor": 2
}
