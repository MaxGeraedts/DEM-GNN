{
 "cells": [
  {
   "cell_type": "code",
   "execution_count": 1,
   "metadata": {},
   "outputs": [
    {
     "data": {
      "text/plain": [
       "True"
      ]
     },
     "execution_count": 1,
     "metadata": {},
     "output_type": "execute_result"
    }
   ],
   "source": [
    "import torch\n",
    "import torch.nn.functional as F\n",
    "\n",
    "from torch_geometric.data import Data, DataLoader, InMemoryDataset\n",
    "from torch_geometric.nn import MessagePassing\n",
    "import torch_geometric.transforms as T\n",
    "\n",
    "import numpy as np\n",
    "import matplotlib.pyplot as plt\n",
    "import os\n",
    "from tqdm import tqdm, trange\n",
    "from IPython.display import clear_output\n",
    "from typing import Literal\n",
    "\n",
    "torch.cuda.is_available()"
   ]
  },
  {
   "cell_type": "code",
   "execution_count": 2,
   "metadata": {},
   "outputs": [],
   "source": [
    "from Encoding import GetEdgeIdx\n",
    "class DEM_Dataset(InMemoryDataset):\n",
    "    def __init__(self,file_name: str,data_split,\n",
    "                 Dataset_type: Literal[\"train\",\"validate\",\"test\"],\n",
    "                 mode: Literal[\"cart\",\"delta\"],\n",
    "                 root: str = os.getcwd()+r\"\\Data\", \n",
    "                 force_reload=False,transform=None, pre_transform=None, pre_filter=None):\n",
    "        \n",
    "        self.raw_data_path = f\"{root}\\\\raw\"\n",
    "        self.processed_data_path = f\"{root}\\\\processed\"\n",
    "        self.file_name = file_name\n",
    "        self.Dataset_type = Dataset_type\n",
    "        self.mode = mode\n",
    "        self.data_split = data_split\n",
    "        super(DEM_Dataset,self).__init__(root, transform, pre_transform,pre_filter,force_reload)\n",
    "        self.load(os.path.join(self.processed_data_path,self.processed_file_names[0]))\n",
    "\n",
    "    @property \n",
    "    def raw_file_names(self):\n",
    "        return[f\"{self.file_name}_Data.npy\",\n",
    "               f\"{self.file_name}_Topology.npy\"]\n",
    "    \n",
    "    @property\n",
    "    def processed_file_names(self):\n",
    "        if self.pre_filter is None: return [f\"{self.file_name}_{self.mode}_{self.Dataset_type}.pt\"]\n",
    "        else: return [f\"{self.file_name}_{self.mode}_{self.Dataset_type}_init.pt\"]\n",
    "    \n",
    "    def download(self):\n",
    "        pass\n",
    "    \n",
    "    # Load data and split them according to dataset split\n",
    "    def LoadSimTop(self,i):\n",
    "        data = np.load(f\"{self.raw_data_path}\\\\{self.raw_file_names[i]}\",allow_pickle=True)\n",
    "        Daset_type_idx = {\"train\":0,\"validate\":1,\"test\":2}[self.Dataset_type]\n",
    "        splits=np.array(self.data_split)*data.shape[0]\n",
    "        return np.split(data,splits.astype(int))[Daset_type_idx]\n",
    "    \n",
    "    def process(self):\n",
    "            data_list = []\n",
    "            simulations,topologies = [self.LoadSimTop(i) for i in [0,1]]\n",
    "\n",
    "            if self.pre_filter is not None:\n",
    "                simulations = self.pre_filter(simulations)\n",
    "\n",
    "            for sim, top in tqdm(zip(simulations,topologies)):\n",
    "                  for t in np.arange(len(sim)-1):\n",
    "                    real_idx = sim[t][:,-1:].squeeze().nonzero()\n",
    "                    maskx = np.squeeze(sim[t][:,-1:]==1)\n",
    "                    if t == 1: start = False\n",
    "                    x = torch.tensor(sim[t],dtype=torch.float)\n",
    "                    y_abs = torch.tensor(sim[t+1][real_idx,:3],dtype=torch.float).squeeze()\n",
    "                    if self.mode == 'cart':\n",
    "                        y=y_abs\n",
    "                    if self.mode == 'delta':\n",
    "                        y=y_abs-x[maskx,:3]\n",
    "\n",
    "                    edge_index = GetEdgeIdx(top[t],real_idx) \n",
    "                    data = Data(pos=x[:,:3],x=x[:,3:],y=y,edge_index=edge_index,mask=maskx,time=t)\n",
    "                    data_list.append(data)\n",
    "\n",
    "            if self.pre_transform is not None:\n",
    "                data_list = [self.pre_transform(data) for data in data_list]        \n",
    "                \n",
    "            self.save(data_list, os.path.join(self.processed_data_path,self.processed_file_names[0]))"
   ]
  },
  {
   "cell_type": "code",
   "execution_count": 3,
   "metadata": {},
   "outputs": [],
   "source": [
    "class RelPosConv(MessagePassing):\n",
    "    def __init__(self, emb_dim, msg_dim, out_channels, aggr = 'mean'):\n",
    "        super().__init__(aggr=aggr)\n",
    "        self.edge_mlp = torch.nn.Linear(emb_dim+emb_dim,msg_dim)\n",
    "        self.update_mlp = torch.nn.Linear(emb_dim+msg_dim,out_channels)\n",
    "        self.reset_parameters()\n",
    "\n",
    "    def forward(self,x,edge_attr,edge_index):\n",
    "        out = self.propagate(edge_index,x=x,edge_attr=edge_attr)\n",
    "        return out\n",
    "    \n",
    "    def message(self, x_j, edge_attr):\n",
    "        tmp = torch.cat([x_j, edge_attr],dim=1)\n",
    "        return self.edge_mlp(tmp)\n",
    "    \n",
    "    def update(self,aggr_out,x):\n",
    "        cat = torch.cat([x, aggr_out],dim=1)\n",
    "        return self.update_mlp(cat)"
   ]
  },
  {
   "cell_type": "code",
   "execution_count": 4,
   "metadata": {},
   "outputs": [],
   "source": [
    "class GCONV_Model_RelPos(torch.nn.Module):\n",
    "    def __init__(self, emb_dim=64, msg_dim=64, node_dim=7, edge_dim=3, out_dim = 3):\n",
    "        super(GCONV_Model_RelPos,self).__init__()\n",
    "        self.node_embed = torch.nn.Linear(node_dim,emb_dim)\n",
    "        self.edge_embed = torch.nn.Linear(edge_dim,emb_dim)\n",
    "        self.conv1 = RelPosConv(emb_dim,msg_dim,emb_dim)\n",
    "        self.conv2 = RelPosConv(emb_dim,msg_dim,emb_dim)\n",
    "        self.conv3 = RelPosConv(emb_dim,msg_dim,out_dim)\n",
    "\n",
    "    def forward(self,data):\n",
    "        x, edge_attr, edge_index = data.x, data.edge_attr, data.edge_index\n",
    "        x = self.node_embed(x)\n",
    "        edge_attr = self.edge_embed(edge_attr)\n",
    "        x = F.relu(x)\n",
    "        x = self.conv1(x, edge_attr, edge_index)\n",
    "        x = F.relu(x)\n",
    "        x = self.conv2(x, edge_attr, edge_index)\n",
    "        x = F.relu(x)\n",
    "        x = self.conv3(x, edge_attr, edge_index)\n",
    "        return x"
   ]
  },
  {
   "cell_type": "code",
   "execution_count": 5,
   "metadata": {},
   "outputs": [],
   "source": [
    "class Trainer:\n",
    "    def __init__(self,model,dataset_train,dataset_val,batch_size,lr,epochs,model_name,loss_fn=torch.nn.MSELoss()):\n",
    "        self.model = model\n",
    "        self.batch_size = batch_size\n",
    "        self.lr = lr\n",
    "        self.epochs = epochs\n",
    "        self.loss_fn = loss_fn\n",
    "        self.model_name = model_name\n",
    "\n",
    "        self.device = torch.device('cuda' if torch.cuda.is_available()else 'cpu')\n",
    "        print(\"Device: \", self.device)\n",
    "        self.model.to(self.device)\n",
    "        self.optimizer = torch.optim.Adam(self.model.parameters(),lr=self.lr)\n",
    "        self.train_dl = self.make_data_loader(dataset_train, shuffle=True)\n",
    "        self.val_dl = self.make_data_loader(dataset_val, shuffle=False)\n",
    "\n",
    "    def make_data_loader(self, dataset, shuffle):\n",
    "        return DataLoader(dataset, batch_size=self.batch_size, shuffle=shuffle)\n",
    "    \n",
    "    def loss_batch(self, batch,opt=None):\n",
    "        out = self.model(batch)\n",
    "        mask = np.concatenate(batch.mask)\n",
    "        loss =self.loss_fn(out[mask], batch.y)\n",
    "\n",
    "        if opt is not None:\n",
    "            loss.backward()\n",
    "            opt.step()\n",
    "            opt.zero_grad()\n",
    "        return loss.item()\n",
    "\n",
    "    def batch_loop(self, dataloader, loss_list, axes, opt=None):\n",
    "        mean_loss = 0\n",
    "        for i, batch in enumerate(dataloader):\n",
    "            batch_loss = self.loss_batch(batch.to(self.device), opt)\n",
    "            mean_loss += batch_loss\n",
    "        mean_loss /= i\n",
    "        loss_list.append(mean_loss)\n",
    "        axes[0].plot(loss_list)\n",
    "        axes[1].plot(loss_list[-5:])\n",
    "        return mean_loss,loss_list\n",
    "\n",
    "    def train_loop(self):\n",
    "        train_loss, val_loss = [], []\n",
    "        best_model_loss = np.inf\n",
    "        for epoch in tqdm(range(self.epochs)):\n",
    "            clear_output(wait=True)\n",
    "            fig, axes = plt.subplots(1,2)\n",
    "            fig.set_figwidth(15)\n",
    "\n",
    "            self.model.train()  \n",
    "            mean_train_loss, train_loss = self.batch_loop(self.train_dl,train_loss,axes,self.optimizer)\n",
    "\n",
    "            self.model.eval()\n",
    "            with torch.inference_mode():\n",
    "                mean_val_loss, val_loss = self.batch_loop(self.val_dl,val_loss,axes)\n",
    "\n",
    "            for ax in axes: ax.set(xlabel='Epoch',ylabel='Loss'), ax.set_ylim(ymin=0), ax.set_xlim(xmin=0)\n",
    "\n",
    "            plt.show()\n",
    "\n",
    "            if mean_val_loss < best_model_loss:\n",
    "                best_model_loss = mean_val_loss\n",
    "                torch.save(self.model.state_dict(),os.path.join(os.getcwd(),\"Models\",self.model_name))\n",
    "\n",
    "            print(f\"Epoch {epoch}, Mean Train Loss: {mean_train_loss}, Mean Validation Loss: {mean_val_loss}\")\n",
    "        np.save(f\"{os.getcwd()}\\\\Models\\\\{self.model_name}_Training_Loss\",train_loss)\n",
    "        np.save(f\"{os.getcwd()}\\\\Models\\\\{self.model_name}_Validation_Loss\",val_loss)"
   ]
  },
  {
   "cell_type": "code",
   "execution_count": 6,
   "metadata": {},
   "outputs": [
    {
     "name": "stderr",
     "output_type": "stream",
     "text": [
      "Processing...\n",
      "1700it [01:27, 19.38it/s]\n",
      "Done!\n",
      "c:\\Users\\20182319\\AppData\\Local\\anaconda3\\envs\\DEM-GNN\\Lib\\site-packages\\torch_geometric\\io\\fs.py:229: UserWarning: Weights only load failed. Please file an issue to make `torch.load(weights_only=True)` compatible in your case. Please use `torch.serialization.add_safe_globals([scalar])` to allowlist this global.\n",
      "  warnings.warn(f\"{warn_msg} Please use \"\n",
      "Processing...\n",
      "200it [00:08, 24.98it/s]\n",
      "Done!\n",
      "Processing...\n",
      "100it [00:07, 12.80it/s]\n",
      "Done!\n"
     ]
    }
   ],
   "source": [
    "transform_norm = T.Compose([T.NormalizeScale(),T.Cartesian(False)])\n",
    "transform_eq = T.Cartesian(False)\n",
    "\n",
    "file_name=\"2Sphere\"\n",
    "data_split=[0.85, 0.95]\n",
    "transform = transform_eq\n",
    "\n",
    "dataset_train     = DEM_Dataset(file_name, data_split,\"train\"   ,'delta', pre_transform=transform,force_reload=True)\n",
    "dataset_val       = DEM_Dataset(file_name, data_split,\"validate\",'delta', pre_transform=transform,force_reload=True)\n",
    "dataset_test      = DEM_Dataset(file_name, data_split,\"test\"    ,'delta', pre_transform=transform,force_reload=True)"
   ]
  },
  {
   "cell_type": "code",
   "execution_count": 8,
   "metadata": {},
   "outputs": [
    {
     "name": "stdout",
     "output_type": "stream",
     "text": [
      "Device:  cuda\n"
     ]
    },
    {
     "name": "stderr",
     "output_type": "stream",
     "text": [
      "c:\\Users\\Gebruiker\\anaconda3\\Lib\\site-packages\\torch_geometric\\deprecation.py:26: UserWarning: 'data.DataLoader' is deprecated, use 'loader.DataLoader' instead\n",
      "  warnings.warn(out)\n"
     ]
    }
   ],
   "source": [
    "model = GCONV_Model_RelPos()\n",
    "trainer = Trainer(model, dataset_train,dataset_val,\n",
    "                  batch_size=64,\n",
    "                  lr=0.00000001,\n",
    "                  epochs=1000,\n",
    "                  model_name=f\"{file_name}_GCONV_Model_RelPos_03\")\n",
    "#trainer.train_loop()"
   ]
  },
  {
   "cell_type": "code",
   "execution_count": null,
   "metadata": {},
   "outputs": [],
   "source": [
    "from Encoding import ToPytorchData\n",
    "from Plotting import PlotGraph\n",
    "\n",
    "def GetLimits(data):\n",
    "    max = [torch.max(data.x[:,i]) for i in [0, 1, 2]]\n",
    "    min = [torch.min(data.x[:,i]) for i in [0, 1, 2]]\n",
    "    max = torch.stack(max)\n",
    "    min = torch.stack(min)\n",
    "    limits = torch.stack([min,max],dim=1)\n",
    "    return limits\n",
    "\n",
    "def Rollout(model,data_agr,bc_agr,i: int,model_name: str,timesteps: int,plot_graph: bool,\n",
    "            device: Literal[\"cuda\",\"cpu\"],\n",
    "            mode: Literal[\"cart\",\"delta\"]):\n",
    "    model.load_state_dict(torch.load(f\"{os.getcwd()}\\\\Models\\\\{model_name}\",weights_only=True))\n",
    "    model.eval()\n",
    "    with torch.inference_mode():\n",
    "        #par_t = np.copy(data_start[i])\n",
    "        mask = data_agr[i][0][:,-1] == 1\n",
    "        par_t = np.copy(data_agr[i][0][mask,:6])\n",
    "        ML_rollout = np.zeros((timesteps+1,par_t.shape[0],par_t.shape[1]))\n",
    "        ML_rollout[0] = par_t\n",
    "\n",
    "        bc = np.copy(bc_agr[i])\n",
    "        bc_t = np.copy(bc)\n",
    "        bc_rollout = np.zeros((timesteps+1,6,9))\n",
    "        bc_rollout[0] = bc_t\n",
    "\n",
    "        for t in tqdm(range(timesteps)):\n",
    "            bc_t[:,:3] = bc[:,:3]+(t+2)*bc[:,-3:]                      # Update BC's\n",
    "            data = ToPytorchData(par_t,bc_t,tol=0.1)\n",
    "            data = transform(data)\n",
    "            if t == 0: limits = GetLimits(data)\n",
    "            if plot_graph==True: PlotGraph(data,limits,manual_axes=False,plot_lines=False) \n",
    "            data.to(device)\n",
    "            model.to(device)\n",
    "            out = model(data)\n",
    "            if mode == \"cart\":\n",
    "                par_t[:,:3] = np.array(out[data.mask])\n",
    "            if mode == \"delta\":\n",
    "                par_t[:,:3] = par_t[:,:3]+np.array(out[data.mask])\n",
    "            ML_rollout[t+1] = par_t\n",
    "\n",
    "            bc_rollout[t+1] = bc_t\n",
    "        return bc_rollout, ML_rollout"
   ]
  },
  {
   "cell_type": "code",
   "execution_count": 10,
   "metadata": {},
   "outputs": [],
   "source": [
    "def FilterStart(dataset):\n",
    "    idx = np.nonzero([data.time == 0 for data in dataset])\n",
    "    return torch.utils.data.Subset(dataset_test,idx)[0]\n",
    "\n",
    "dataset_test_start = FilterStart(dataset_test)"
   ]
  },
  {
   "cell_type": "code",
   "execution_count": 11,
   "metadata": {},
   "outputs": [
    {
     "data": {
      "text/plain": [
       "Data(x=[8, 7], edge_index=[2, 8], y=[2, 3], pos=[8, 3], time=0, mask=[8], edge_attr=[8, 3])"
      ]
     },
     "execution_count": 11,
     "metadata": {},
     "output_type": "execute_result"
    }
   ],
   "source": [
    "dataset_test_start[0]"
   ]
  },
  {
   "cell_type": "code",
   "execution_count": 12,
   "metadata": {},
   "outputs": [
    {
     "name": "stderr",
     "output_type": "stream",
     "text": [
      "100%|██████████| 100/100 [00:00<00:00, 406.76it/s]\n"
     ]
    }
   ],
   "source": [
    "from Encoding import load\n",
    "file_name = \"2Sphere\"\n",
    "model_name = f\"{file_name}_GCONV_Model_RelPos_02\"\n",
    "data_start,data_agr,top_agr,bc_agr = load(file_name)\n",
    "model = GCONV_Model_RelPos()\n",
    "bc_rollout, ML_rollout = Rollout(model,\n",
    "                                 data_agr,\n",
    "                                 bc_agr,-5,model_name,100,False,\"cpu\",\"delta\")"
   ]
  },
  {
   "cell_type": "code",
   "execution_count": null,
   "metadata": {},
   "outputs": [
    {
     "data": {
      "image/png": "[encoded data removed]",
      "text/plain": [
       "<Figure size 1900x480 with 3 Axes>"
      ]
     },
     "metadata": {},
     "output_type": "display_data"
    }
   ],
   "source": [
    "from Plotting import PlotXYZ\n",
    "fig, axes = plt.subplots(1,3,sharey=True)\n",
    "fig.set_figwidth(19)\n",
    "t_max = 100\n",
    "for i, ax in enumerate(axes):   \n",
    "    PlotXYZ(bc_rollout,data_agr[0][:t_max],ML_rollout[:t_max], i,ax)\n",
    "    ax.set_xlim(xmin=0,xmax=t_max)"
   ]
  }
 ],
 "metadata": {
  "kernelspec": {
   "display_name": "Python 3",
   "language": "python",
   "name": "python3"
  },
  "language_info": {
   "codemirror_mode": {
    "name": "ipython",
    "version": 3
   },
   "file_extension": ".py",
   "mimetype": "text/x-python",
   "name": "python",
   "nbconvert_exporter": "python",
   "pygments_lexer": "ipython3",
   "version": "3.11.11"
  }
 },
 "nbformat": 4,
 "nbformat_minor": 2
}
